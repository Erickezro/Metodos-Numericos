{
 "cells": [
  {
   "cell_type": "markdown",
   "id": "5518f6f1-8b53-4f71-8f1a-31b703d3c55f",
   "metadata": {},
   "source": [
    "## 1. "
   ]
  },
  {
   "cell_type": "code",
   "execution_count": 17,
   "id": "4cd4b7aa-16af-40f9-9832-a2de9a6d6ea6",
   "metadata": {},
   "outputs": [
    {
     "name": "stdout",
     "output_type": "stream",
     "text": [
      "-0.8654740331016144\n"
     ]
    }
   ],
   "source": [
    "from scipy.optimize import newton\n",
    "import numpy as np\n",
    "\n",
    "# Definir la función y su derivada como funciones de Python\n",
    "def f(x):\n",
    "    return -x**3 - np.cos(x)\n",
    "\n",
    "def f_prime(x):\n",
    "    return -3*x**2 + np.sin(x)\n",
    "\n",
    "# Punto inicial\n",
    "p0 = -1\n",
    "\n",
    "# Calcular p1 usando scipy.optimize.newton\n",
    "p1_scipy = newton(f, p0, fprime=f_prime)\n",
    "print(p1_scipy)\n"
   ]
  },
  {
   "cell_type": "code",
   "execution_count": 11,
   "id": "aeb5bb60-9e32-4156-b543-61ce8b774b9c",
   "metadata": {},
   "outputs": [
    {
     "name": "stdout",
     "output_type": "stream",
     "text": [
      "p2 usando el método de la Secante: -0.8695181106771847\n"
     ]
    }
   ],
   "source": [
    "# Método de la Secante\n",
    "def secant_method(p0, p1):\n",
    "    return p1 - f(p1) * (p1 - p0) / (f(p1) - f(p0))\n",
    "\n",
    "# Parámetros iniciales para la Secante\n",
    "p0_secant = -1\n",
    "p1_secant = -0.9  # Un valor cercano a p0 para iniciar el método\n",
    "\n",
    "# Cálculo con la Secante\n",
    "p1_secant = secant_method(p0_secant, p1_secant)\n",
    "print(f\"p2 usando el método de la Secante: {p1_secant}\")\n"
   ]
  },
  {
   "cell_type": "code",
   "execution_count": 10,
   "id": "9529f427-baaf-47a1-8719-71aba9a8676e",
   "metadata": {},
   "outputs": [
    {
     "name": "stdout",
     "output_type": "stream",
     "text": [
      "p2 usando el método de la Secante: -2.566954968334547\n"
     ]
    }
   ],
   "source": [
    "# Método de la Secante\n",
    "def secant_method(p0, p1):\n",
    "    return p1 - f(p1) * (p1 - p0) / (f(p1) - f(p0))\n",
    "\n",
    "# Parámetros iniciales para la Secante\n",
    "p0_secant = 0\n",
    "p1_secant = 0.9  # Un valor cercano a p0 para iniciar el método\n",
    "\n",
    "# Cálculo con la Secante\n",
    "p1_secant = secant_method(p0_secant, p1_secant)\n",
    "print(f\"p2 usando el método de la Secante: {p1_secant}\")\n"
   ]
  },
  {
   "cell_type": "markdown",
   "id": "883044aa-97ab-4c1a-99e7-42889f12606a",
   "metadata": {},
   "source": [
    "## 2."
   ]
  },
  {
   "cell_type": "markdown",
   "id": "935d3d4e-16c9-4e4b-aabf-31a9882552cd",
   "metadata": {},
   "source": [
    "### a."
   ]
  },
  {
   "cell_type": "code",
   "execution_count": 25,
   "id": "d987ba85-c372-4943-8724-40aa22099822",
   "metadata": {},
   "outputs": [
    {
     "name": "stdout",
     "output_type": "stream",
     "text": [
      "Iteración 1: Raíz aproximada = 3.25\n",
      "Iteración 2: Raíz aproximada = 2.811036789297659\n",
      "Iteración 3: Raíz aproximada = 2.697989502468529\n",
      "Iteración 4: Raíz aproximada = 2.6906771528603617\n",
      "Iteración 5: Raíz aproximada = 2.690647448517619\n",
      "\n",
      "Raíz final encontrada: 2.690647448517619\n",
      "Número total de iteraciones: 5\n"
     ]
    }
   ],
   "source": [
    "from scipy.optimize import newton\n",
    "\n",
    "# Definir la función y su derivada\n",
    "def f(x):\n",
    "    return x**3 - 2*x**2 - 5\n",
    "\n",
    "def f_prime(x):\n",
    "    return 3*x**2 - 4*x\n",
    "\n",
    "# Contador de iteraciones\n",
    "iterations = 0\n",
    "\n",
    "# Método de Newton con contador de iteraciones\n",
    "def newton_with_iterations(func, dfunc, x0, tol=1e-4, max_iter=50):\n",
    "    global iterations\n",
    "    iterations = 0\n",
    "    x = x0\n",
    "    for _ in range(max_iter):\n",
    "        iterations += 1\n",
    "        # Calcular el cambio\n",
    "        dx = func(x) / dfunc(x)\n",
    "        x -= dx\n",
    "        # Imprimir el valor de la raíz en cada iteración\n",
    "        print(f\"Iteración {iterations}: Raíz aproximada = {x}\")\n",
    "        \n",
    "        # Comprobar si el cambio es suficientemente pequeño para terminar\n",
    "        if abs(dx) < tol:\n",
    "            break\n",
    "    return x\n",
    "\n",
    "# Resolver la raíz\n",
    "x0 = 2  # Valor inicial\n",
    "tolerance = 1e-4\n",
    "root = newton_with_iterations(f, f_prime, x0, tol=tolerance)\n",
    "\n",
    "# Mostrar el resultado final\n",
    "print(\"\\nRaíz final encontrada:\", root)\n",
    "print(\"Número total de iteraciones:\", iterations)\n"
   ]
  },
  {
   "cell_type": "markdown",
   "id": "111c3b35-4bfc-4408-a3f4-9cf610c3d005",
   "metadata": {},
   "source": [
    "### b."
   ]
  },
  {
   "cell_type": "code",
   "execution_count": 31,
   "id": "b20375e9-bcd1-4848-8161-1f65cda4c751",
   "metadata": {},
   "outputs": [
    {
     "name": "stdout",
     "output_type": "stream",
     "text": [
      "Iteración 1: Raíz aproximada = -3.0666666666666664\n",
      "Iteración 2: Raíz aproximada = -2.9008756038647343\n",
      "Iteración 3: Raíz aproximada = -2.879719904423836\n",
      "Iteración 4: Raíz aproximada = -2.87938532466927\n",
      "Iteración 5: Raíz aproximada = -2.879385241571822\n",
      "\n",
      "Raíz final encontrada: -2.879385241571822\n",
      "Número total de iteraciones: 5\n"
     ]
    }
   ],
   "source": [
    "from scipy.optimize import newton\n",
    "\n",
    "# Definir la función y su derivada\n",
    "def f(x):\n",
    "    return x**3 + 3*x**2 - 1\n",
    "\n",
    "def f_prime(x):\n",
    "    return 3*x**2 + 6*x\n",
    "\n",
    "# Contador de iteraciones\n",
    "iterations = 0\n",
    "\n",
    "# Método de Newton con contador de iteraciones\n",
    "def newton_with_iterations(func, dfunc, x0, tol=1e-4, max_iter=50):\n",
    "    global iterations\n",
    "    iterations = 0\n",
    "    x = x0\n",
    "    for _ in range(max_iter):\n",
    "        iterations += 1\n",
    "        # Calcular el cambio\n",
    "        dx = func(x) / dfunc(x)\n",
    "        x -= dx\n",
    "        # Imprimir el valor de la raíz en cada iteración\n",
    "        print(f\"Iteración {iterations}: Raíz aproximada = {x}\")\n",
    "        \n",
    "        # Comprobar si el cambio es suficientemente pequeño para terminar\n",
    "        if abs(dx) < tol:\n",
    "            break\n",
    "    return x\n",
    "\n",
    "# Resolver la raíz\n",
    "x0 = -2.5  # Valor inicial\n",
    "tolerance = 1e-4\n",
    "root = newton_with_iterations(f, f_prime, x0, tol=tolerance)\n",
    "\n",
    "# Mostrar el resultado final\n",
    "print(\"\\nRaíz final encontrada:\", root)\n",
    "print(\"Número total de iteraciones:\", iterations)\n"
   ]
  },
  {
   "cell_type": "markdown",
   "id": "1e20cac2-818a-40d5-ba47-6148ffcc6962",
   "metadata": {},
   "source": [
    "### c."
   ]
  },
  {
   "cell_type": "code",
   "execution_count": 36,
   "id": "57403d5a-061e-4c4f-b08b-f69c1b39d29a",
   "metadata": {},
   "outputs": [
    {
     "name": "stdout",
     "output_type": "stream",
     "text": [
      "Iteración 1: Raíz aproximada = 0.7503638678402439\n",
      "Iteración 2: Raíz aproximada = 0.7391128909113617\n",
      "Iteración 3: Raíz aproximada = 0.739085133385284\n",
      "\n",
      "Raíz final encontrada: 0.739085133385284\n",
      "Número total de iteraciones: 3\n"
     ]
    }
   ],
   "source": [
    "from scipy.optimize import newton\n",
    "import numpy as np\n",
    "\n",
    "# Definir la función y su derivada\n",
    "def f(x):\n",
    "    return x - np.cos(x)\n",
    "\n",
    "def f_prime(x):\n",
    "    return 1 + np.sin(x)\n",
    "\n",
    "# Contador de iteraciones\n",
    "iterations = 0\n",
    "\n",
    "# Método de Newton con contador de iteraciones\n",
    "def newton_with_iterations(func, dfunc, x0, tol=1e-4, max_iter=50):\n",
    "    global iterations\n",
    "    iterations = 0\n",
    "    x = x0\n",
    "    for _ in range(max_iter):\n",
    "        iterations += 1\n",
    "        # Calcular el cambio\n",
    "        dx = func(x) / dfunc(x)\n",
    "        x -= dx\n",
    "        # Imprimir el valor de la raíz en cada iteración\n",
    "        print(f\"Iteración {iterations}: Raíz aproximada = {x}\")\n",
    "        \n",
    "        # Comprobar si el cambio es suficientemente pequeño para terminar\n",
    "        if abs(dx) < tol:\n",
    "            break\n",
    "    return x\n",
    "\n",
    "# Resolver la raíz\n",
    "x0 = 1  # Valor inicial\n",
    "tolerance = 1e-4\n",
    "root = newton_with_iterations(f, f_prime, x0, tol=tolerance)\n",
    "\n",
    "# Mostrar el resultado final\n",
    "print(\"\\nRaíz final encontrada:\", root)\n",
    "print(\"Número total de iteraciones:\", iterations)\n"
   ]
  },
  {
   "cell_type": "markdown",
   "id": "886f7bbb-85cf-4343-bfcc-002681af0d3d",
   "metadata": {},
   "source": [
    "### d."
   ]
  },
  {
   "cell_type": "code",
   "execution_count": 41,
   "id": "bbfdf4c3-d735-4f09-a1aa-3eca2f28c23d",
   "metadata": {},
   "outputs": [
    {
     "name": "stdout",
     "output_type": "stream",
     "text": [
      "Iteración 1: Raíz aproximada = 0.9890364917340949\n",
      "Iteración 2: Raíz aproximada = 0.9889057271178231\n",
      "Iteración 3: Raíz aproximada = 0.988905708646051\n",
      "\n",
      "Raíz final encontrada: 0.988905708646051\n",
      "Número total de iteraciones: 3\n"
     ]
    }
   ],
   "source": [
    "from scipy.optimize import newton\n",
    "import numpy as np\n",
    "\n",
    "# Definir la función y su derivada\n",
    "def f(x):\n",
    "    return x**3 - 0.8 - 0.2*np.sin(x)\n",
    "\n",
    "def f_prime(x):\n",
    "    return 3*x**2 - 0.2*np.cos(x)\n",
    "\n",
    "# Contador de iteraciones\n",
    "iterations = 0\n",
    "\n",
    "# Método de Newton con contador de iteraciones\n",
    "def newton_with_iterations(func, dfunc, x0, tol=1e-4, max_iter=50):\n",
    "    global iterations\n",
    "    iterations = 0\n",
    "    x = x0\n",
    "    for _ in range(max_iter):\n",
    "        iterations += 1\n",
    "        # Calcular el cambio\n",
    "        dx = func(x) / dfunc(x)\n",
    "        x -= dx\n",
    "        # Imprimir el valor de la raíz en cada iteración\n",
    "        print(f\"Iteración {iterations}: Raíz aproximada = {x}\")\n",
    "        \n",
    "        # Comprobar si el cambio es suficientemente pequeño para terminar\n",
    "        if abs(dx) < tol:\n",
    "            break\n",
    "    return x\n",
    "\n",
    "# Resolver la raíz\n",
    "x0 = 1  # Valor inicial\n",
    "tolerance = 1e-4\n",
    "root = newton_with_iterations(f, f_prime, x0, tol=tolerance)\n",
    "\n",
    "# Mostrar el resultado final\n",
    "print(\"\\nRaíz final encontrada:\", root)\n",
    "print(\"Número total de iteraciones:\", iterations)\n"
   ]
  },
  {
   "cell_type": "markdown",
   "id": "3ac0859b-0c9b-4849-8fa7-6e621f071a8a",
   "metadata": {},
   "source": [
    "## 3."
   ]
  },
  {
   "cell_type": "markdown",
   "id": "1d8689d3-84f1-404f-9440-592f96c786cb",
   "metadata": {},
   "source": [
    "### a."
   ]
  },
  {
   "cell_type": "code",
   "execution_count": 52,
   "id": "09718604-2c07-4149-a9dd-c93ca9c490ff",
   "metadata": {},
   "outputs": [
    {
     "name": "stdout",
     "output_type": "stream",
     "text": [
      "Iteración 1: x = 1.5123581458677815, f(x) = 0.018310929661935482, , df(x) = -1.4816890703380645\n",
      "Iteración 2: x = 1.512134625427124, f(x) = -0.0003436443671569478, , df(x) = -1.5374180819705012\n",
      "Raíz final con Newton-Raphson: 1.512134625427124\n"
     ]
    }
   ],
   "source": [
    "import numpy as np\n",
    "\n",
    "# Definir la función y su derivada\n",
    "def f(x):\n",
    "    return 3*x - np.exp(x)\n",
    "\n",
    "def f_prime(x):\n",
    "    return 3 - np.exp(x)\n",
    "\n",
    "# Método de Newton-Raphson\n",
    "def newton_method(func, dfunc, x0, tol=1e-5, max_iter=50):\n",
    "    x = x0\n",
    "    for i in range(max_iter):\n",
    "        fx = func(x)\n",
    "        dfx = dfunc(x)\n",
    "        if abs(fx) < tol:\n",
    "            break\n",
    "        x = x - fx / dfx\n",
    "        print(f\"Iteración {i+1}: x = {x}, f(x) = {fx}, , df(x) = {dfx}\")\n",
    "    return x\n",
    "\n",
    "# Aplicar el Método de Newton-Raphson\n",
    "x0 = 1.5  # Punto inicial en el intervalo [1, 2]\n",
    "root_newton = newton_method(f, f_prime, x0)\n",
    "print(f\"Raíz final con Newton-Raphson: {root_newton}\")\n"
   ]
  },
  {
   "cell_type": "code",
   "execution_count": 47,
   "id": "c5e71555-2bcd-4e85-95db-8de9f98ef7c1",
   "metadata": {},
   "outputs": [
    {
     "name": "stdout",
     "output_type": "stream",
     "text": [
      "Iteración 1: x = 1.1686153399174835, f(x) = -1.3890560989306504\n",
      "Iteración 2: x = 1.3115165547175733, f(x) = 0.2883116585050738\n",
      "Iteración 3: x = 1.7970430096312444, f(x) = 0.22275107257452476\n",
      "Iteración 4: x = 1.4367778925334904, f(x) = -0.6406561086122622\n",
      "Iteración 5: x = 1.4867662868726117, f(x) = 0.10321551004001517\n",
      "Iteración 6: x = 1.5153257605230879, f(x) = 0.037528461494316545\n",
      "Iteración 7: x = 1.512011934333299, f(x) = -0.004926108500723281\n",
      "Iteración 8: x = 1.5121339760022816, f(x) = 0.00018835560455254807\n",
      "Raíz final con el Método de la Secante: 1.5121339760022816\n"
     ]
    }
   ],
   "source": [
    "# Método de la Secante\n",
    "def secant_method(func, x0, x1, tol=1e-5, max_iter=50):\n",
    "    for i in range(max_iter):\n",
    "        fx0 = func(x0)\n",
    "        fx1 = func(x1)\n",
    "        if abs(fx1) < tol:\n",
    "            break\n",
    "        # Aplicar la fórmula de la secante\n",
    "        x2 = x1 - fx1 * (x1 - x0) / (fx1 - fx0)\n",
    "        x0, x1 = x1, x2\n",
    "        print(f\"Iteración {i+1}: x = {x2}, f(x) = {fx1}\")\n",
    "    return x2\n",
    "\n",
    "# Aplicar el Método de la Secante\n",
    "x0 = 1.0 # Primer punto inicial\n",
    "x1 = 2.0  # Segundo punto inicial\n",
    "root_secant = secant_method(f, x0, x1)\n",
    "print(f\"Raíz final con el Método de la Secante: {root_secant}\")\n"
   ]
  },
  {
   "cell_type": "markdown",
   "id": "2236be8f-41de-4a56-aa97-9ebaa3f9d0e8",
   "metadata": {},
   "source": [
    "### b."
   ]
  },
  {
   "cell_type": "code",
   "execution_count": 50,
   "id": "7d96f5da-fd19-4f31-874e-6263cd9c7f03",
   "metadata": {},
   "outputs": [
    {
     "name": "stdout",
     "output_type": "stream",
     "text": [
      "Iteración 1: x = 1.2907413800470178, f(x) = -1.8406309912989811, df(x) = -5.95175323351963\n",
      "Iteración 2: x = 1.240997515619534, f(x) = -0.22477270469007493, df(x) = -4.518601585884982\n",
      "Iteración 3: x = 1.2397155462453178, f(x) = -0.005509115661320063, df(x) = -4.297384767625516\n",
      "Raíz final con Newton-Raphson: 1.2397155462453178\n"
     ]
    }
   ],
   "source": [
    "import numpy as np\n",
    "\n",
    "# Definir la función y su derivada\n",
    "def f(x):\n",
    "    return 2*x + 3*np.cos(x) - np.exp(x)\n",
    "\n",
    "def f_prime(x):\n",
    "    return 2 - 3*np.sin(x) - np.exp(x)\n",
    "\n",
    "# Método de Newton-Raphson\n",
    "def newton_method(func, dfunc, x0, tol=1e-5, max_iter=50):\n",
    "    x = x0\n",
    "    for i in range(max_iter):\n",
    "        fx = func(x)\n",
    "        dfx = dfunc(x)\n",
    "        if abs(fx) < tol:\n",
    "            break\n",
    "        x = x - fx / dfx\n",
    "        print(f\"Iteración {i+1}: x = {x}, f(x) = {fx}, df(x) = {dfx}\")\n",
    "    return x\n",
    "\n",
    "# Aplicar el Método de Newton-Raphson\n",
    "x0 = 1.6  # Punto inicial en el intervalo [1, 2]\n",
    "root_newton = newton_method(f, f_prime, x0)\n",
    "print(f\"Raíz final con Newton-Raphson: {root_newton}\")"
   ]
  },
  {
   "cell_type": "code",
   "execution_count": 53,
   "id": "6373dd5b-1cd4-4e30-8aa7-12b0a0b5b95e",
   "metadata": {},
   "outputs": [
    {
     "name": "stdout",
     "output_type": "stream",
     "text": [
      "Iteración 1: x = 1.1686153399174835, f(x) = -1.3890560989306504\n",
      "Iteración 2: x = 1.3115165547175733, f(x) = 0.2883116585050738\n",
      "Iteración 3: x = 1.7970430096312444, f(x) = 0.22275107257452476\n",
      "Iteración 4: x = 1.4367778925334904, f(x) = -0.6406561086122622\n",
      "Iteración 5: x = 1.4867662868726117, f(x) = 0.10321551004001517\n",
      "Iteración 6: x = 1.5153257605230879, f(x) = 0.037528461494316545\n",
      "Iteración 7: x = 1.512011934333299, f(x) = -0.004926108500723281\n",
      "Iteración 8: x = 1.5121339760022816, f(x) = 0.00018835560455254807\n",
      "Raíz final con el Método de la Secante: 1.5121339760022816\n"
     ]
    }
   ],
   "source": [
    "# Método de la Secante\n",
    "def secant_method(func, x0, x1, tol=1e-5, max_iter=50):\n",
    "    for i in range(max_iter):\n",
    "        fx0 = func(x0)\n",
    "        fx1 = func(x1)\n",
    "        if abs(fx1) < tol:\n",
    "            break\n",
    "        # Aplicar la fórmula de la secante\n",
    "        x2 = x1 - fx1 * (x1 - x0) / (fx1 - fx0)\n",
    "        x0, x1 = x1, x2\n",
    "        print(f\"Iteración {i+1}: x = {x2}, f(x) = {fx1}\")\n",
    "    return x2\n",
    "\n",
    "# Aplicar el Método de la Secante\n",
    "x0 = 1.0 # Primer punto inicial\n",
    "x1 = 2.0  # Segundo punto inicial\n",
    "root_secant = secant_method(f, x0, x1)\n",
    "print(f\"Raíz final con el Método de la Secante: {root_secant}\")"
   ]
  },
  {
   "cell_type": "markdown",
   "id": "386cfcfd-98ec-4017-a7a8-ad3b629f00fe",
   "metadata": {},
   "source": [
    "## 4."
   ]
  },
  {
   "cell_type": "code",
   "execution_count": 58,
   "id": "bde62a2b-8def-4d2a-9ec2-40952972c4f4",
   "metadata": {},
   "outputs": [
    {
     "name": "stdout",
     "output_type": "stream",
     "text": [
      "Secante Iteración 1: x = -0.020361990950226245, f(x) = -9\n",
      "Secante Iteración 2: x = -0.04069125643524189, f(x) = -4.496380927836867\n",
      "Secante Iteración 3: x = -0.04065926257769109, f(x) = 0.007087483162253605\n",
      "Secante Iteración 4: x = -0.040659288315725135, f(x) = -5.706243772607422e-06\n",
      "Raíz encontrada con la Secante en [-1, 0]: -0.040659288315725135\n",
      "\n",
      "Secante Iteración 1: x = 0.25, f(x) = 27\n",
      "Secante Iteración 2: x = 0.7737627651217597, f(x) = -62.5078125\n",
      "Secante Iteración 3: x = -1.2854177835209222, f(x) = -83.83052027901041\n",
      "Secante Iteración 4: x = 0.5945955204028852, f(x) = 879.6389856119233\n",
      "Secante Iteración 5: x = 0.3946411046833955, f(x) = -104.69138947868024\n",
      "Secante Iteración 6: x = -0.6693181355515856, f(x) = -88.12894036243688\n",
      "Secante Iteración 7: x = 0.04971439761607255, f(x) = 183.71315974038606\n",
      "Secante Iteración 8: x = -0.020754150823816236, f(x) = -19.961021581616844\n",
      "Secante Iteración 9: x = -0.04073533289637811, f(x) = -4.409574294107167\n",
      "Secante Iteración 10: x = -0.04065922824320605, f(x) = 0.016859473350379517\n",
      "Secante Iteración 11: x = -0.04065928831557162, f(x) = -1.3318351362201497e-05\n",
      "Raíz encontrada con la Secante en [0, 1]: -0.04065928831557162\n"
     ]
    }
   ],
   "source": [
    "import numpy as np\n",
    "\n",
    "# Definir la función y su derivada\n",
    "def f(x):\n",
    "    return 230*x**4 + 18*x**3 + 9*x**2 - 221*x - 9\n",
    "\n",
    "def f_prime(x):\n",
    "    return 920*x**3 + 54*x**2 + 18*x - 221\n",
    "\n",
    "# Método de la Secante\n",
    "def secant_method(func, x0, x1, tol=1e-6, max_iter=50):\n",
    "    for i in range(max_iter):\n",
    "        fx0 = func(x0)\n",
    "        fx1 = func(x1)\n",
    "        if abs(fx1) < tol:\n",
    "            break\n",
    "        # Aplicar la fórmula de la secante\n",
    "        x2 = x1 - fx1 * (x1 - x0) / (fx1 - fx0)\n",
    "        x0, x1 = x1, x2\n",
    "        print(f\"Secante Iteración {i+1}: x = {x2}, f(x) = {fx1}\")\n",
    "    return x2\n",
    "\n",
    "# Aplicar el Método de la Secante en el intervalo [-1, 0]\n",
    "x0_secant = -1\n",
    "x1_secant = 0\n",
    "root_secant_1 = secant_method(f, x0_secant, x1_secant)\n",
    "print(f\"Raíz encontrada con la Secante en [-1, 0]: {root_secant_1}\\n\")\n",
    "\n",
    "\n",
    "# Aplicar el Método de la Secante en el intervalo [0, 1]\n",
    "x0_secant = 0\n",
    "x1_secant = 1\n",
    "root_secant_2 = secant_method(f, x0_secant, x1_secant)\n",
    "print(f\"Raíz encontrada con la Secante en [0, 1]: {root_secant_2}\")\n"
   ]
  },
  {
   "cell_type": "code",
   "execution_count": 61,
   "id": "9f8fb67e-0fba-4a6b-a780-4f1f7a78a923",
   "metadata": {},
   "outputs": [
    {
     "name": "stdout",
     "output_type": "stream",
     "text": [
      "Newton Iteración 1: x = -0.15045248868778283, f(x) = 115.875\n",
      "Newton Iteración 2: x = -0.04181681394887035, f(x) = 24.510270975839106\n",
      "Newton Iteración 3: x = -0.04065934349732934, f(x) = 0.25664077102784333\n",
      "Newton Iteración 4: x = -0.04065928831575899, f(x) = 1.2233998946342695e-05\n",
      "Raíz encontrada con Newton-Raphson en [-1, 0]: -0.04065928831575899\n",
      "\n",
      "Newton Iteración 1: x = -0.7050898203592815, f(x) = -100.625\n",
      "Newton Iteración 2: x = -0.3237911142304748, f(x) = 201.8363035194656\n",
      "Newton Iteración 3: x = -0.06460313103057486, f(x) = 65.41842668694188\n",
      "Newton Iteración 4: x = -0.04068615115195558, f(x) = 5.314007069966671\n",
      "Newton Iteración 5: x = -0.04065928834533494, f(x) = 0.005955616485257664\n",
      "Raíz encontrada con Newton-Raphson en [0, 1]: -0.04065928834533494\n"
     ]
    }
   ],
   "source": [
    "import numpy as np\n",
    "\n",
    "# Definir la función y su derivada\n",
    "def f(x):\n",
    "    return 230*x**4 + 18*x**3 + 9*x**2 - 221*x - 9\n",
    "\n",
    "def f_prime(x):\n",
    "    return 920*x**3 + 54*x**2 + 18*x - 221\n",
    "\n",
    "# Método de Newton-Raphson\n",
    "def newton_method(func, dfunc, x0, tol=1e-6, max_iter=50):\n",
    "    x = x0\n",
    "    for i in range(max_iter):\n",
    "        fx = func(x)\n",
    "        dfx = dfunc(x)\n",
    "        if abs(fx) < tol:\n",
    "            break\n",
    "        x = x - fx / dfx\n",
    "        print(f\"Newton Iteración {i+1}: x = {x}, f(x) = {fx}\")\n",
    "    return x\n",
    "\n",
    "# Aplicar el Método de Newton-Raphson en el intervalo [-1, 0]\n",
    "x0_newton = -0.5  # Punto medio\n",
    "root_newton_1 = newton_method(f, f_prime, x0_newton)\n",
    "print(f\"Raíz encontrada con Newton-Raphson en [-1, 0]: {root_newton_1}\\n\")\n",
    "\n",
    "# Aplicar el Método de Newton-Raphson en el intervalo [0, 1]\n",
    "x0_newton = 0.5  # Punto medio\n",
    "root_newton_2 = newton_method(f, f_prime, x0_newton)\n",
    "print(f\"Raíz encontrada con Newton-Raphson en [0, 1]: {root_newton_2}\")"
   ]
  },
  {
   "cell_type": "markdown",
   "id": "c1b988b0-fe7d-4eb6-80f0-f0d5ee54b1a8",
   "metadata": {},
   "source": [
    "## 5."
   ]
  },
  {
   "cell_type": "markdown",
   "id": "a2fe3ac5-cdaa-440f-98f2-030c940c8722",
   "metadata": {},
   "source": [
    "### a."
   ]
  },
  {
   "cell_type": "code",
   "execution_count": 62,
   "id": "2447987a-6138-40ec-a4b0-838d5a1dcfcf",
   "metadata": {},
   "outputs": [
    {
     "name": "stdout",
     "output_type": "stream",
     "text": [
      "Bisección Iteración 1: p = 0.24, f(p) = -5.060937494182507\n",
      "Bisección Iteración 2: p = 0.36, f(p) = -3.874891826842797\n",
      "Bisección Iteración 3: p = 0.42, f(p) = -2.105257145070144\n",
      "Bisección Iteración 4: p = 0.44999999999999996, f(p) = 0.3137515146750314\n",
      "Bisección Iteración 5: p = 0.43499999999999994, f(p) = -1.171182647807246\n",
      "Bisección Iteración 6: p = 0.44249999999999995, f(p) = -0.5245211508218706\n",
      "Bisección Iteración 7: p = 0.4462499999999999, f(p) = -0.13434976287736955\n",
      "Bisección Iteración 8: p = 0.44812499999999994, f(p) = 0.08167438867622234\n",
      "Bisección Iteración 9: p = 0.44718749999999996, f(p) = -0.028237440581283302\n",
      "Bisección Iteración 10: p = 0.44765625, f(p) = 0.0262307752703812\n"
     ]
    }
   ],
   "source": [
    "import numpy as np\n",
    "\n",
    "# Definir la función\n",
    "def f(x):\n",
    "    return np.tan(np.pi * x) - 6\n",
    "\n",
    "# Método de bisección\n",
    "def bisection_method(func, a, b, tol=1e-6, max_iter=10):\n",
    "    for i in range(max_iter):\n",
    "        p = (a + b) / 2\n",
    "        print(f\"Bisección Iteración {i+1}: p = {p}, f(p) = {func(p)}\")\n",
    "        if func(a) * func(p) < 0:\n",
    "            b = p\n",
    "        else:\n",
    "            a = p\n",
    "        if abs(b - a) < tol:\n",
    "            break\n",
    "    return p\n",
    "\n",
    "# Intervalo inicial\n",
    "root_bisection = bisection_method(f, 0, 0.48)\n"
   ]
  },
  {
   "cell_type": "markdown",
   "id": "e7d15621-b5cb-4e9b-8a90-e1b61bcadf20",
   "metadata": {},
   "source": [
    "### b."
   ]
  },
  {
   "cell_type": "code",
   "execution_count": 67,
   "id": "93a85d63-45f7-4719-8b6f-e309d94180da",
   "metadata": {},
   "outputs": [
    {
     "name": "stdout",
     "output_type": "stream",
     "text": [
      "Newton Iteración 1: x = 0.4675825019258912, f(x) = 9.894544843865265\n",
      "Newton Iteración 2: x = 0.4551291915177739, f(x) = 3.785105252252814\n",
      "Newton Iteración 3: x = 0.4485512339384831, f(x) = 1.046868151861597\n",
      "Newton Iteración 4: x = 0.4474551842507058, f(x) = 0.1329583649899968\n",
      "Newton Iteración 5: x = 0.4474315538237576, f(x) = 0.002749225198632743\n",
      "Newton Iteración 6: x = 0.4474315432887487, f(x) = 1.2245786331632758e-06\n"
     ]
    }
   ],
   "source": [
    "def f(x):\n",
    "    return np.tan(np.pi * x) - 6\n",
    "\n",
    "\n",
    "# Derivada de la función\n",
    "def f_prime(x):\n",
    "    return np.pi * (1 / np.cos(np.pi * x))**2\n",
    "\n",
    "# Método de Newton-Raphson\n",
    "def newton_method(func, dfunc, x0, tol=1e-6, max_iter=10):\n",
    "    x = x0\n",
    "    for i in range(max_iter):\n",
    "        fx = func(x)\n",
    "        dfx = dfunc(x)\n",
    "        x_next = x - fx / dfx\n",
    "        print(f\"Newton Iteración {i+1}: x = {x_next}, f(x) = {fx}\")\n",
    "        if abs(x_next - x) < tol:\n",
    "            break\n",
    "        x = x_next\n",
    "    return x\n",
    "\n",
    "# Punto inicial\n",
    "root_newton = newton_method(f, f_prime, 0.48)\n"
   ]
  },
  {
   "cell_type": "markdown",
   "id": "60c13ae4-ca53-4ed1-8bee-0990a4e5ae6e",
   "metadata": {},
   "source": [
    "### c."
   ]
  },
  {
   "cell_type": "code",
   "execution_count": 77,
   "id": "f884b7b5-32e8-47c3-87b2-0a8f8e84cf18",
   "metadata": {},
   "outputs": [
    {
     "name": "stdout",
     "output_type": "stream",
     "text": [
      "Iteración 1: x = 0.41824044993792286, f(x) = -2.192753254919373\n",
      "Iteración 2: x = 0.4294442320664196, f(x) = -1.5626638542438185\n",
      "Iteración 3: x = 0.4572303610574066, f(x) = 1.3975840502676702\n",
      "Iteración 4: x = 0.44411205071680965, f(x) = -0.36314508621990793\n",
      "Iteración 5: x = 0.4468176627504691, f(x) = -0.07054065089488581\n",
      "Iteración 6: x = 0.4474699277570175, f(x) = 0.004465000034606703\n",
      "Iteración 7: x = 0.44743109917222795, f(x) = -5.162319595353182e-05\n",
      "Iteración 8: x = 0.4474315429674127, f(x) = -3.735150588823899e-08\n",
      "Raíz final con Secante: 0.4474315429674127\n"
     ]
    }
   ],
   "source": [
    "import numpy as np\n",
    "\n",
    "# Definir la función\n",
    "def f(x):\n",
    "    return np.tan(np.pi * x) - 6\n",
    "\n",
    "# Método de la secante\n",
    "def secant_method(func, x0, x1, tol=1e-6, max_iter=10):\n",
    "    for i in range(max_iter):\n",
    "        fx0 = func(x0)\n",
    "        fx1 = func(x1)\n",
    "        if abs(fx1 - fx0) < 1e-10:  # Evitar divisiones pequeñas\n",
    "            print(\"Error: División por un valor cercano a 0.\")\n",
    "            return None\n",
    "        x2 = x1 - fx1 * (x1 - x0) / (fx1 - fx0)\n",
    "        print(f\"Iteración {i+1}: x = {x2}, f(x) = {func(x2)}\")\n",
    "        if abs(x2 - x1) < tol:  # Criterio de convergencia\n",
    "            return x2\n",
    "        x0, x1 = x1, x2\n",
    "    return x2\n",
    "\n",
    "# Puntos iniciales ajustados\n",
    "root_secant = secant_method(f, 0.4, 0.48)\n",
    "print(\"Raíz final con Secante:\", root_secant)\n"
   ]
  },
  {
   "cell_type": "markdown",
   "id": "39b1ec0a-50e6-4dce-bf69-e229b774846a",
   "metadata": {},
   "source": [
    "## 6."
   ]
  },
  {
   "cell_type": "markdown",
   "id": "3ed74c35-8873-45d4-815c-3f970e057975",
   "metadata": {},
   "source": [
    "### a."
   ]
  },
  {
   "cell_type": "code",
   "execution_count": 3,
   "id": "2874382f-c676-43cc-9aee-43448f8b96b1",
   "metadata": {},
   "outputs": [
    {
     "name": "stdout",
     "output_type": "stream",
     "text": [
      "La raíz aproximada es: -0.434143047285729\n"
     ]
    }
   ],
   "source": [
    "import sympy as sym\n",
    "\n",
    "# Definición de la función y su derivada usando sympy\n",
    "x = sym.symbols(\"x\")\n",
    "func = sym.log(x**2 + 1) - sym.exp(0.4 * x) * sym.cos(sym.pi * x)\n",
    "func_prime = sym.diff(func, x)  # Derivada de la función\n",
    "\n",
    "# Método de Newton-Raphson\n",
    "def newton_method(func, func_prime, x0, tol=1e-6, max_iter=100):\n",
    "  \n",
    "    xi = x0\n",
    "    for _ in range(max_iter):\n",
    "        f_val = func.evalf(subs={x: xi})\n",
    "        f_prime_val = func_prime.evalf(subs={x: xi})\n",
    "        \n",
    "        if abs(f_prime_val) < 1e-10:  # Evita la división por cero\n",
    "            raise ValueError(\"La derivada se acerca a cero. El método falla.\")\n",
    "        \n",
    "        xi_next = xi - f_val / f_prime_val\n",
    "        if abs(xi_next - xi) < tol:\n",
    "            return xi_next\n",
    "        xi = xi_next\n",
    "    raise ValueError(\"El método no convergió dentro del número máximo de iteraciones.\")\n",
    "\n",
    "# Llamada al método\n",
    "root = newton_method(func, func_prime, x0=-0.4, tol=1e-6)\n",
    "print(f\"La raíz aproximada es: {root}\")\n"
   ]
  },
  {
   "cell_type": "markdown",
   "id": "43df8164-cc3c-473b-b06d-7dbc1b370100",
   "metadata": {},
   "source": [
    "### b."
   ]
  },
  {
   "cell_type": "code",
   "execution_count": 4,
   "id": "34960830-2d17-4412-a96d-474e8de47171",
   "metadata": {},
   "outputs": [
    {
     "name": "stdout",
     "output_type": "stream",
     "text": [
      "Ceros positivos más pequeños: [0.4506559371948242, 1.7447385787963867, 2.2383203506469727, 3.709040641784668]\n"
     ]
    }
   ],
   "source": [
    "from scipy.optimize import bisect\n",
    "\n",
    "# Búsqueda de ceros en intervalos\n",
    "roots_positive = []\n",
    "intervals = [(0, 1), (1, 2), (2, 3), (3, 4)] \n",
    "for a, b in intervals:\n",
    "    root = bisect(f, a, b, xtol=1e-6)\n",
    "    roots_positive.append(root)\n",
    "\n",
    "print(\"Ceros positivos más pequeños:\", roots_positive)\n"
   ]
  },
  {
   "cell_type": "code",
   "execution_count": 5,
   "id": "6e86c47d-48dd-4769-84ce-f8fb4464adbb",
   "metadata": {},
   "outputs": [
    {
     "name": "stdout",
     "output_type": "stream",
     "text": [
      "Ceros positivos más pequeños: [0.4506567477778335, 1.744738053371723, 2.238319795074128, 3.7090412013759524]\n"
     ]
    }
   ],
   "source": [
    "import numpy as np\n",
    "\n",
    "# Definición de la función\n",
    "def f(x):\n",
    "    return np.log(x**2 + 1) - np.exp(0.4 * x) * np.cos(np.pi * x)\n",
    "\n",
    "# Método de la secante\n",
    "def secant_method(func, x0, x1, tol=1e-6, max_iter=100):\n",
    "    for _ in range(max_iter):\n",
    "        f_x0 = func(x0)\n",
    "        f_x1 = func(x1)\n",
    "\n",
    "        if abs(f_x1 - f_x0) < 1e-10:  # Evita la división por cero\n",
    "            raise ValueError(\"El denominador en el método de la secante es demasiado pequeño.\")\n",
    "\n",
    "        # Fórmula del método de la secante\n",
    "        x2 = x1 - f_x1 * (x1 - x0) / (f_x1 - f_x0)\n",
    "\n",
    "        if abs(x2 - x1) < tol:  # Comprobación de convergencia\n",
    "            return x2\n",
    "\n",
    "        x0, x1 = x1, x2  # Actualización de valores\n",
    "\n",
    "    raise ValueError(\"El método no convergió dentro del número máximo de iteraciones.\")\n",
    "\n",
    "# Aplicación del método a intervalos específicos\n",
    "roots_positive = []\n",
    "intervals = [(0, 1), (1, 2), (2, 3), (3, 4)]  \n",
    "\n",
    "for x0, x1 in intervals:\n",
    "    root = secant_method(f, x0, x1, tol=1e-6)\n",
    "    roots_positive.append(root)\n",
    "\n",
    "print(\"Ceros positivos más pequeños:\", roots_positive)\n"
   ]
  },
  {
   "cell_type": "markdown",
   "id": "c7d3e0a4-99d4-4972-9262-5a60e9ad5365",
   "metadata": {},
   "source": [
    "### c."
   ]
  },
  {
   "cell_type": "code",
   "execution_count": 6,
   "id": "3f9d5e07-45c0-49ad-bab3-86c129111e54",
   "metadata": {},
   "outputs": [
    {
     "name": "stdout",
     "output_type": "stream",
     "text": [
      "Raíz encontrada: 24.499887047446148\n"
     ]
    }
   ],
   "source": [
    "import math\n",
    "\n",
    "# Definición de la función\n",
    "def f(x):\n",
    "    return math.log(x**2 + 1) - math.exp(0.4 * x) * math.cos(math.pi * x)\n",
    "\n",
    "# Método de la secante\n",
    "def secant_method(func, x0, x1, tol=1e-6, max_iter=100):\n",
    "\n",
    "    for _ in range(max_iter):\n",
    "        f_x0 = func(x0)\n",
    "        f_x1 = func(x1)\n",
    "\n",
    "        if abs(f_x1 - f_x0) < 1e-10:  # Evita la división por cero\n",
    "            raise ValueError(\"El denominador en el método de la secante es demasiado pequeño.\")\n",
    "\n",
    "        # Fórmula del método de la secante\n",
    "        x2 = x1 - f_x1 * (x1 - x0) / (f_x1 - f_x0)\n",
    "\n",
    "        if abs(x2 - x1) < tol:  # Comprobación de convergencia\n",
    "            return x2\n",
    "\n",
    "        x0, x1 = x1, x2  # Actualización de valores\n",
    "\n",
    "    raise ValueError(\"El método no convergió dentro del número máximo de iteraciones.\")\n",
    "\n",
    "# Aplicación del método\n",
    "x0 = 24.0  # Primera aproximación inicial\n",
    "x1 = 24.5  # Segunda aproximación inicial\n",
    "root = secant_method(f, x0, x1, tol=1e-6)\n",
    "\n",
    "print(\"Raíz encontrada:\", root)\n"
   ]
  },
  {
   "cell_type": "markdown",
   "id": "f11fa04e-76aa-4513-8798-84e69d9ee509",
   "metadata": {},
   "source": [
    "## 7."
   ]
  },
  {
   "cell_type": "code",
   "execution_count": 82,
   "id": "26aef1fc-c308-46c8-a16f-21f16147d80d",
   "metadata": {},
   "outputs": [
    {
     "name": "stdout",
     "output_type": "stream",
     "text": [
      "Método de Newton-Raphson:\n",
      "Iteración 1: x = -2.0, f(x) = -1.259921049894873\n",
      "Iteración 2: x = 3.9999999999999982, f(x) = 1.5874010519681994\n",
      "Iteración 3: x = -7.999999999999998, f(x) = -1.9999999999999998\n",
      "Iteración 4: x = 15.999999999999998, f(x) = 2.5198420997897464\n",
      "Iteración 5: x = -31.999999999999993, f(x) = -3.1748021039363987\n",
      "Iteración 6: x = 63.99999999999999, f(x) = 4.0\n",
      "Iteración 7: x = -127.99999999999997, f(x) = -5.039684199579492\n",
      "Iteración 8: x = 255.99999999999991, f(x) = 6.3496042078727974\n",
      "Iteración 9: x = -512.0, f(x) = -8.0\n",
      "Iteración 10: x = 1024.0, f(x) = 10.079368399158984\n",
      "Iteración 11: x = -2047.999999999999, f(x) = -12.699208415745595\n",
      "Iteración 12: x = 4095.999999999999, f(x) = 15.999999999999998\n",
      "Iteración 13: x = -8191.999999999999, f(x) = -20.15873679831797\n",
      "Iteración 14: x = 16383.999999999996, f(x) = 25.39841683149119\n",
      "Iteración 15: x = -32767.999999999996, f(x) = -32.0\n",
      "Iteración 16: x = 65535.999999999985, f(x) = 40.317473596635935\n",
      "Iteración 17: x = -131071.99999999996, f(x) = -50.79683366298238\n",
      "Iteración 18: x = 262144.0, f(x) = 64.0\n",
      "Iteración 19: x = -524288.0, f(x) = -80.63494719327187\n",
      "Iteración 20: x = 1048575.9999999995, f(x) = 101.59366732596476\n",
      "Iteración 21: x = -2097151.9999999995, f(x) = -127.99999999999999\n",
      "Iteración 22: x = 4194303.9999999995, f(x) = 161.26989438654377\n",
      "Iteración 23: x = -8388607.999999998, f(x) = -203.18733465192952\n",
      "Iteración 24: x = 16777215.999999998, f(x) = 256.0\n",
      "Iteración 25: x = -33554431.999999993, f(x) = -322.5397887730875\n",
      "Iteración 26: x = 67108863.99999998, f(x) = 406.37466930385904\n",
      "Iteración 27: x = -134217728.0, f(x) = -512.0\n",
      "Iteración 28: x = 268435456.0, f(x) = 645.079577546175\n",
      "Iteración 29: x = -536870911.99999976, f(x) = -812.7493386077181\n",
      "Iteración 30: x = 1073741823.9999998, f(x) = 1023.9999999999999\n",
      "Iteración 31: x = -2147483647.9999998, f(x) = -1290.1591550923501\n",
      "Iteración 32: x = 4294967295.999999, f(x) = 1625.4986772154361\n",
      "Iteración 33: x = -8589934591.999999, f(x) = -2048.0\n",
      "Iteración 34: x = 17179869183.999996, f(x) = 2580.3183101847\n",
      "Iteración 35: x = -34359738367.99999, f(x) = -3250.9973544308723\n",
      "Iteración 36: x = 68719476736.0, f(x) = 4096.0\n",
      "Iteración 37: x = -137438953472.0, f(x) = -5160.6366203694\n",
      "Iteración 38: x = 274877906943.99988, f(x) = 6501.994708861745\n",
      "Iteración 39: x = -549755813887.9999, f(x) = -8191.999999999999\n",
      "Iteración 40: x = 1099511627775.9999, f(x) = 10321.273240738801\n",
      "Iteración 41: x = -2199023255551.9995, f(x) = -13003.98941772349\n",
      "Iteración 42: x = 4398046511103.9995, f(x) = 16384.0\n",
      "Iteración 43: x = -8796093022207.998, f(x) = -20642.5464814776\n",
      "Iteración 44: x = 17592186044415.994, f(x) = 26007.97883544698\n",
      "Iteración 45: x = -35184372088832.0, f(x) = -32768.0\n",
      "Iteración 46: x = 70368744177664.0, f(x) = 41285.0929629552\n",
      "Iteración 47: x = -140737488355327.94, f(x) = -52015.95767089396\n",
      "Iteración 48: x = 281474976710655.94, f(x) = 65535.99999999999\n",
      "Iteración 49: x = -562949953421311.94, f(x) = -82570.18592591041\n",
      "Iteración 50: x = 1125899906842623.8, f(x) = 104031.91534178791\n",
      "Raíz encontrada con Newton-Raphson: 1125899906842623.8\n",
      "\n",
      "Método de la Secante:\n",
      "Iteración 1: x = -3.398011761822331, f(x) = -1.5034014309145904\n",
      "Iteración 2: x = -0.8468509642591542, f(x) = -0.9460969929242504\n",
      "Iteración 3: x = 3.484077330057768, f(x) = 1.5159885758975804\n",
      "Iteración 4: x = 0.8173796732586709, f(x) = 0.9349921065644436\n",
      "Iteración 5: x = -3.474111568612199, f(x) = -1.514541764511162\n",
      "Iteración 6: x = -0.8206913425863913, f(x) = -0.9362531330827366\n",
      "Iteración 7: x = 3.475213617304287, f(x) = 1.5147018939216852\n",
      "Iteración 8: x = 0.8203238673251119, f(x) = 0.9361133723669576\n",
      "Iteración 9: x = -3.475091102949919, f(x) = -1.5146840940657356\n",
      "Iteración 10: x = -0.8203647038902462, f(x) = -0.9361289056711019\n",
      "Iteración 11: x = 3.4751047148591008, f(x) = 1.514686071732392\n",
      "Iteración 12: x = 0.8203601665680136, f(x) = 0.9361271798019826\n",
      "Iteración 13: x = -3.4751032024149104, f(x) = -1.5146858519904782\n",
      "Iteración 14: x = -0.8203606707158406, f(x) = -0.9361273715658793\n",
      "Iteración 15: x = 3.475103370464144, f(x) = 1.514685876406232\n",
      "Iteración 16: x = 0.8203606146994269, f(x) = 0.9361273502587879\n",
      "Iteración 17: x = -3.4751033517920047, f(x) = -1.5146858736933702\n",
      "Iteración 18: x = -0.8203606209234731, f(x) = -0.9361273526262427\n",
      "Iteración 19: x = 3.4751033538666882, f(x) = 1.5146858739947995\n",
      "Iteración 20: x = 0.8203606202319125, f(x) = 0.9361273523631921\n",
      "Iteración 21: x = -3.475103353636167, f(x) = -1.5146858739613074\n",
      "Iteración 22: x = -0.8203606203087523, f(x) = -0.9361273523924201\n",
      "Iteración 23: x = 3.475103353661781, f(x) = 1.5146858739650286\n",
      "Iteración 24: x = 0.8203606203002143, f(x) = 0.9361273523891723\n",
      "Iteración 25: x = -3.4751033536589353, f(x) = -1.514685873964615\n",
      "Iteración 26: x = -0.8203606203011637, f(x) = -0.9361273523895335\n",
      "Iteración 27: x = 3.475103353659255, f(x) = 1.5146858739646616\n",
      "Iteración 28: x = 0.8203606203010589, f(x) = 0.9361273523894936\n",
      "Iteración 29: x = -3.4751033536592213, f(x) = -1.5146858739646567\n",
      "Iteración 30: x = -0.8203606203010709, f(x) = -0.9361273523894982\n",
      "Iteración 31: x = 3.475103353659226, f(x) = 1.5146858739646576\n",
      "Iteración 32: x = 0.82036062030107, f(x) = 0.9361273523894977\n",
      "Iteración 33: x = -3.4751033536592253, f(x) = -1.5146858739646574\n",
      "Iteración 34: x = -0.8203606203010696, f(x) = -0.9361273523894976\n",
      "Iteración 35: x = 3.475103353659225, f(x) = 1.5146858739646571\n",
      "Iteración 36: x = 0.8203606203010696, f(x) = 0.9361273523894976\n",
      "Iteración 37: x = -3.4751033536592257, f(x) = -1.5146858739646574\n",
      "Iteración 38: x = -0.82036062030107, f(x) = -0.9361273523894977\n",
      "Iteración 39: x = 3.475103353659226, f(x) = 1.5146858739646576\n",
      "Iteración 40: x = 0.8203606203010696, f(x) = 0.9361273523894976\n",
      "Iteración 41: x = -3.475103353659225, f(x) = -1.5146858739646571\n",
      "Iteración 42: x = -0.8203606203010696, f(x) = -0.9361273523894976\n",
      "Iteración 43: x = 3.4751033536592257, f(x) = 1.5146858739646574\n",
      "Iteración 44: x = 0.82036062030107, f(x) = 0.9361273523894977\n",
      "Iteración 45: x = -3.475103353659226, f(x) = -1.5146858739646576\n",
      "Iteración 46: x = -0.8203606203010696, f(x) = -0.9361273523894976\n",
      "Iteración 47: x = 3.475103353659225, f(x) = 1.5146858739646571\n",
      "Iteración 48: x = 0.8203606203010696, f(x) = 0.9361273523894976\n",
      "Iteración 49: x = -3.4751033536592257, f(x) = -1.5146858739646574\n",
      "Iteración 50: x = -0.82036062030107, f(x) = -0.9361273523894977\n",
      "Raíz encontrada con el método de la Secante: -0.82036062030107\n"
     ]
    }
   ],
   "source": [
    "import numpy as np\n",
    "\n",
    "# Definimos la función\n",
    "def f(x):\n",
    "    return np.cbrt(x)  # x^(1/3)\n",
    "\n",
    "# Derivada de la función\n",
    "def f_prime(x):\n",
    "    return 1 / (3 * np.cbrt(x**2))\n",
    "\n",
    "# Método de Newton-Raphson\n",
    "def newton_raphson(f, f_prime, x0, tol=1e-6, max_iter=50):\n",
    "    iter_count = 0\n",
    "    x = x0\n",
    "    while iter_count < max_iter:\n",
    "        iter_count += 1\n",
    "        dx = f(x) / f_prime(x)\n",
    "        x -= dx\n",
    "        print(f\"Iteración {iter_count}: x = {x}, f(x) = {f(x)}\")\n",
    "        if abs(dx) < tol:\n",
    "            break\n",
    "    return x\n",
    "\n",
    "# Método de la Secante\n",
    "def secante(f, p0, p1, tol=1e-6, max_iter=50):\n",
    "    iter_count = 0\n",
    "    while iter_count < max_iter:\n",
    "        iter_count += 1\n",
    "        q0, q1 = f(p0), f(p1)\n",
    "        p = p1 - q1 * (p1 - p0) / (q1 - q0)  # Fórmula de la secante\n",
    "        print(f\"Iteración {iter_count}: x = {p}, f(x) = {f(p)}\")\n",
    "        if abs(p - p1) < tol:\n",
    "            break\n",
    "        p0, p1 = p1, p\n",
    "    return p\n",
    "\n",
    "# Parámetros\n",
    "tolerance = 1e-6\n",
    "\n",
    "print(\"Método de Newton-Raphson:\")\n",
    "root_newton = newton_raphson(f, f_prime, x0=1, tol=tolerance)\n",
    "print(f\"Raíz encontrada con Newton-Raphson: {root_newton}\\n\")\n",
    "\n",
    "print(\"Método de la Secante:\")\n",
    "root_secant = secante(f, p0=5, p1=0.5, tol=tolerance)\n",
    "print(f\"Raíz encontrada con el método de la Secante: {root_secant}\")\n"
   ]
  }
 ],
 "metadata": {
  "kernelspec": {
   "display_name": "Python 3 (ipykernel)",
   "language": "python",
   "name": "python3"
  },
  "language_info": {
   "codemirror_mode": {
    "name": "ipython",
    "version": 3
   },
   "file_extension": ".py",
   "mimetype": "text/x-python",
   "name": "python",
   "nbconvert_exporter": "python",
   "pygments_lexer": "ipython3",
   "version": "3.12.3"
  }
 },
 "nbformat": 4,
 "nbformat_minor": 5
}
