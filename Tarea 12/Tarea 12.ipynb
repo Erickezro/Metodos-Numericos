{
 "cells": [
  {
   "cell_type": "code",
   "execution_count": 1,
   "id": "732d91e8-f5db-496a-861c-763e661bd63b",
   "metadata": {},
   "outputs": [
    {
     "name": "stdout",
     "output_type": "stream",
     "text": [
      "[02-05 22:14:21][INFO] 2025-02-05 22:14:21.738035\n"
     ]
    }
   ],
   "source": [
    "from src import ODE_euler, ODE_euler_nth\n",
    "import numpy as np"
   ]
  },
  {
   "cell_type": "markdown",
   "id": "caae0a3f-da13-4f7d-a6ae-ab97ebf17cb3",
   "metadata": {},
   "source": [
    "## 3. 4."
   ]
  },
  {
   "cell_type": "markdown",
   "id": "f1052c63-266d-4e35-94be-1d3501c766fd",
   "metadata": {},
   "source": [
    "### a."
   ]
  },
  {
   "cell_type": "code",
   "execution_count": 2,
   "id": "cdc2998e-2d06-42e9-bffa-6fbf949f60b2",
   "metadata": {},
   "outputs": [
    {
     "name": "stdout",
     "output_type": "stream",
     "text": [
      "t=1.0, y=1.000000\n",
      "t=1.1, y=1.000000\n",
      "t=1.2, y=1.008264\n",
      "t=1.3, y=1.021689\n",
      "t=1.4, y=1.038515\n",
      "t=1.5, y=1.057668\n",
      "t=1.6, y=1.078461\n",
      "t=1.7, y=1.100432\n",
      "t=1.8, y=1.123262\n",
      "t=1.9, y=1.146724\n",
      "t=2.0, y=1.170652\n"
     ]
    }
   ],
   "source": [
    "def f_a(t: float, y: float) -> float:\n",
    "    return (y / t) - ((y / t) ** 2)\n",
    "\n",
    "# Parámetros iniciales\n",
    "a = 1      # t inicial\n",
    "b = 2      # t final\n",
    "y0 = 1   # Condición inicial y(1) = 1\n",
    "h = 0.1    # Tamaño de paso\n",
    "N=int((b-a)/h)\n",
    "\n",
    "y_valuesa, t_valuesa, h= ODE_euler(a=a, b=b, f=f_a, y_t0=y0, N=N)\n",
    "\n",
    "for t, y in zip(t_valuesa, y_valuesa):\n",
    "    print(f\"t={t:.1f}, y={y:.6f}\")\n"
   ]
  },
  {
   "cell_type": "code",
   "execution_count": 17,
   "id": "c4f03611-7563-4b06-92e8-075d396fcc1a",
   "metadata": {},
   "outputs": [
    {
     "name": "stdout",
     "output_type": "stream",
     "text": [
      " t      Exacta         Error\n",
      "1.00   1.000000   0.000000e+00\n",
      "1.10   1.004282   4.281728e-03\n",
      "1.20   1.014952   6.687851e-03\n",
      "1.30   1.029814   8.124217e-03\n",
      "1.40   1.047534   9.019185e-03\n",
      "1.50   1.067262   9.594162e-03\n",
      "1.60   1.088433   9.971593e-03\n",
      "1.70   1.110655   1.022289e-02\n",
      "1.80   1.133654   1.039151e-02\n",
      "1.90   1.157228   1.050484e-02\n",
      "2.00   1.181232   1.058065e-02\n"
     ]
    }
   ],
   "source": [
    "def y_exacta_a(t):\n",
    "    return t / (1 + np.log(t))\n",
    "\n",
    "y_a_exact = y_exacta_a(t_valuesa)\n",
    "error_a = np.abs(y_valuesa - y_a_exact)\n",
    "\n",
    "print(\" t      Exacta         Error\")\n",
    "for i in range(len(t_valuesa)):\n",
    "    print(f\"{t_valuesa[i]:.2f}   {y_a_exact[i]:.6f}   {error_a[i]:.6e}\")"
   ]
  },
  {
   "cell_type": "markdown",
   "id": "768ba976-6e0c-4e88-bd4f-8b448865767a",
   "metadata": {},
   "source": [
    "### b."
   ]
  },
  {
   "cell_type": "code",
   "execution_count": 4,
   "id": "fc12e4aa-0caa-494c-bd76-1f132e338334",
   "metadata": {},
   "outputs": [
    {
     "name": "stdout",
     "output_type": "stream",
     "text": [
      "t=1.0, y=1.000000\n",
      "t=1.2, y=1.600000\n",
      "t=1.4, y=2.422222\n",
      "t=1.6, y=3.566944\n",
      "t=1.8, y=5.206803\n",
      "t=2.0, y=7.658843\n",
      "t=2.2, y=11.557621\n",
      "t=2.4, y=18.328090\n",
      "t=2.6, y=31.719281\n",
      "t=2.8, y=64.125877\n",
      "t=3.0, y=173.807525\n"
     ]
    }
   ],
   "source": [
    "def f_b(t: float, y: float) -> float:\n",
    "    return 1 + (y / t) + ((y / t) ** 2)\n",
    "\n",
    "# Parámetros iniciales\n",
    "a = 1      # t inicial\n",
    "b = 3      # t final\n",
    "y_t0 = 0   # Condición inicial y(1) = 0\n",
    "h = 0.2    # Tamaño de paso\n",
    "N=int((b-a)/h)\n",
    "\n",
    "y_valuesb, t_valuesb, h = ODE_euler(a=a, b=b, f=f_b, y_t0=y0, N=N)\n",
    "\n",
    "for t, y in zip(t_valuesb, y_valuesb):\n",
    "    print(f\"t={t:.1f}, y={y:.6f}\")\n"
   ]
  },
  {
   "cell_type": "code",
   "execution_count": 5,
   "id": "e8955855-4c83-4d29-9a97-62852d570159",
   "metadata": {},
   "outputs": [
    {
     "name": "stdout",
     "output_type": "stream",
     "text": [
      " t      Exacta         Error\n",
      "1.00   0.000000   1.000000e+00\n",
      "1.20   0.221243   1.378757e+00\n",
      "1.40   0.489682   1.932541e+00\n",
      "1.60   0.812753   2.754191e+00\n",
      "1.80   1.199439   4.007364e+00\n",
      "2.00   1.661282   5.997561e+00\n",
      "2.20   2.213502   9.344119e+00\n",
      "2.40   2.876551   1.545154e+01\n",
      "2.60   3.678475   2.804081e+01\n",
      "2.80   4.658665   5.946721e+01\n",
      "3.00   5.874100   1.679334e+02\n"
     ]
    }
   ],
   "source": [
    "def y_exacta_b(t):\n",
    "    return t * np.tan(np.log(t))\n",
    "\n",
    "y_b_exact = y_exacta_b(t_valuesb)\n",
    "error_b = np.abs(y_valuesb - y_b_exact)\n",
    "\n",
    "print(\" t      Exacta         Error\")\n",
    "for i in range(len(t_valuesb)):\n",
    "    print(f\"{t_valuesb[i]:.2f}   {y_b_exact[i]:.6f}   {error_b[i]:.6e}\")"
   ]
  },
  {
   "cell_type": "markdown",
   "id": "37f6988f-6411-4056-9cca-3eff6a939cc5",
   "metadata": {},
   "source": [
    "### c."
   ]
  },
  {
   "cell_type": "code",
   "execution_count": 13,
   "id": "cdf669d6-69e1-452f-8cc0-c792c5842980",
   "metadata": {},
   "outputs": [
    {
     "name": "stdout",
     "output_type": "stream",
     "text": [
      "t=0.00, y=1.000000\n",
      "t=0.20, y=-0.600000\n",
      "t=0.40, y=-0.792000\n",
      "t=0.60, y=-0.883853\n",
      "t=0.80, y=-0.933010\n",
      "t=1.00, y=-0.960703\n",
      "t=1.20, y=-0.976731\n",
      "t=1.40, y=-0.986147\n",
      "t=1.60, y=-0.991726\n",
      "t=1.80, y=-0.995050\n",
      "t=2.00, y=-0.997035\n"
     ]
    }
   ],
   "source": [
    "def f_c(t: float, y: float) -> float:\n",
    "    return -((y + 1) * (y + 3))\n",
    "\n",
    "# Parámetros iniciales\n",
    "a = 0      # t inicial\n",
    "b = 2      # t final\n",
    "y_t0 = -2  # Condición inicial y(0) = -2\n",
    "h = 0.2    # Tamaño de paso\n",
    "N=int((b-a)/h)\n",
    "\n",
    "y_valuesc, t_valuesc, h = ODE_euler(a=a, b=b, f=f_c, y_t0=y0, N=N)\n",
    "\n",
    "for t, y in zip(t_valuesc, y_valuesc):\n",
    "    print(f\"t={t:.2f}, y={y:.6f}\")\n"
   ]
  },
  {
   "cell_type": "code",
   "execution_count": 14,
   "id": "0041e3f1-fb98-4660-9317-7c89b2eb4007",
   "metadata": {},
   "outputs": [
    {
     "name": "stdout",
     "output_type": "stream",
     "text": [
      " t      Exacta         Error\n",
      "0.00   -2.000000   3.000000e+00\n",
      "0.20   -1.802625   1.202625e+00\n",
      "0.40   -1.620051   8.280510e-01\n",
      "0.60   -1.462950   5.790976e-01\n",
      "0.80   -1.335963   4.029535e-01\n",
      "1.00   -1.238406   2.777025e-01\n",
      "1.20   -1.166345   1.896145e-01\n",
      "1.40   -1.114648   1.285015e-01\n",
      "1.60   -1.078331   8.660498e-02\n",
      "1.80   -1.053194   5.814442e-02\n",
      "2.00   -1.035972   3.893778e-02\n"
     ]
    }
   ],
   "source": [
    "# Cálculo de la solución exacta\n",
    "def y_exacta_c(t):\n",
    "    return -3 + 2/(1 + np.exp(-2*t))\n",
    "\n",
    "# Vectorizando la función exacta\n",
    "y_exacta_c_vec = np.vectorize(y_exacta_c)\n",
    "y_c_exact = y_exacta_c_vec(t_valuesc)\n",
    "\n",
    "# Asegurarse de que las longitudes sean iguales antes de calcular el error\n",
    "if len(y_valuesc) == len(y_c_exact):\n",
    "    error_c = np.abs(y_valuesc - y_c_exact)\n",
    "\n",
    "    print(\" t      Exacta         Error\")\n",
    "    for i in range(len(t_valuesc)):\n",
    "        print(f\"{t_valuesc[i]:.2f}   {y_c_exact[i]:.6f}   {error_c[i]:.6e}\")\n",
    "else:\n",
    "    print(\"Error: Las longitudes de y_valuesc y y_c_exact no coinciden.\")"
   ]
  },
  {
   "cell_type": "markdown",
   "id": "ff238992-3cca-4dcf-b751-8a3fa5706378",
   "metadata": {},
   "source": [
    "### d."
   ]
  },
  {
   "cell_type": "code",
   "execution_count": 8,
   "id": "427c7fc9-5e0d-4ff1-8af7-429b0871a088",
   "metadata": {},
   "outputs": [
    {
     "name": "stdout",
     "output_type": "stream",
     "text": [
      "t=0.00, y=1.000000\n",
      "t=0.10, y=0.500000\n",
      "t=0.20, y=0.275000\n",
      "t=0.30, y=0.197500\n",
      "t=0.40, y=0.203750\n",
      "t=0.50, y=0.261875\n",
      "t=0.60, y=0.355938\n",
      "t=0.70, y=0.477969\n",
      "t=0.80, y=0.623984\n",
      "t=0.90, y=0.791992\n",
      "t=1.00, y=0.980996\n"
     ]
    }
   ],
   "source": [
    "def f_d(t: float, y: float) -> float:\n",
    "    return -5 * y + 5 * (t ** 2) + 2 * t\n",
    "\n",
    "# Parámetros iniciales\n",
    "a = 0       # t inicial\n",
    "b = 1       # t final\n",
    "y_t0 = 1/3  # Condición inicial y(0) = 1/3\n",
    "h = 0.1     # Tamaño de paso\n",
    "N=int((b-a)/h)\n",
    "\n",
    "y_valuesd, t_valuesd, h = ODE_euler(a=a, b=b, f=f_d, y_t0=y0, N=N)\n",
    "\n",
    "for t, y in zip(t_valuesd, y_valuesd):\n",
    "    print(f\"t={t:.2f}, y={y:.6f}\")\n"
   ]
  },
  {
   "cell_type": "code",
   "execution_count": 9,
   "id": "60d54637-0e48-4d15-b5af-1cf15cddbd80",
   "metadata": {},
   "outputs": [
    {
     "name": "stdout",
     "output_type": "stream",
     "text": [
      " t      Exacta         Error\n",
      "0.00   0.333333   6.666667e-01\n",
      "0.10   0.212177   2.878231e-01\n",
      "0.20   0.162626   1.123735e-01\n",
      "0.30   0.164377   3.312328e-02\n",
      "0.40   0.205112   1.361761e-03\n",
      "0.50   0.277362   1.548667e-02\n",
      "0.60   0.376596   2.065819e-02\n",
      "0.70   0.500066   2.209704e-02\n",
      "0.80   0.646105   2.212084e-02\n",
      "0.90   0.813703   2.171081e-02\n",
      "1.00   1.002246   2.124989e-02\n"
     ]
    }
   ],
   "source": [
    "def y_exacta_d(t):\n",
    "    return t**2 + (1.0/3.0)*np.exp(-5*t)\n",
    "\n",
    "t_valuesd = np.array(t_valuesd)\n",
    "\n",
    "y_d_exact = y_exacta_d(t_valuesd)\n",
    "error_d = np.abs(y_valuesd - y_d_exact)\n",
    "\n",
    "print(\" t      Exacta         Error\")\n",
    "for i in range(len(t_valuesd)):\n",
    "    print(f\"{t_valuesd[i]:.2f}   {y_d_exact[i]:.6f}   {error_d[i]:.6e}\")"
   ]
  },
  {
   "cell_type": "markdown",
   "id": "921023d9-78d4-4dd6-a9d0-9c00c6db1927",
   "metadata": {},
   "source": [
    "## 5."
   ]
  },
  {
   "cell_type": "code",
   "execution_count": null,
   "id": "6cc1ed6b-1a37-4639-bc02-1137fc4b6150",
   "metadata": {},
   "outputs": [],
   "source": []
  }
 ],
 "metadata": {
  "kernelspec": {
   "display_name": "Python 3 (ipykernel)",
   "language": "python",
   "name": "python3"
  },
  "language_info": {
   "codemirror_mode": {
    "name": "ipython",
    "version": 3
   },
   "file_extension": ".py",
   "mimetype": "text/x-python",
   "name": "python",
   "nbconvert_exporter": "python",
   "pygments_lexer": "ipython3",
   "version": "3.12.3"
  }
 },
 "nbformat": 4,
 "nbformat_minor": 5
}
