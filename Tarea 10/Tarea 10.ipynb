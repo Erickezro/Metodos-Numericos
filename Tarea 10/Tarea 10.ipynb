{
 "cells": [
  {
   "cell_type": "markdown",
   "id": "837fa7d9-f40b-4b21-a8a2-2078bf7cbed9",
   "metadata": {},
   "source": [
    "## 1. Realice las siguientes multiplicaciones matriz-matriz:"
   ]
  },
  {
   "cell_type": "markdown",
   "id": "c135744c-bdc8-41c5-b04c-efcfcbc47996",
   "metadata": {},
   "source": [
    "### a)"
   ]
  },
  {
   "cell_type": "markdown",
   "id": "18571778-9dcf-4d86-bd7e-17ee856c7f23",
   "metadata": {},
   "source": [
    "Una forma de realizar la multiplicación de matrices utilizando bucles anidados, donde la matriz resultante tendrá tantas filas como la primera matriz (A) y tantas columnas como la segunda matriz (B), y las matrices estaran dadas en forma de listas de listas"
   ]
  },
  {
   "cell_type": "code",
   "execution_count": 14,
   "id": "4ffc3838-af14-4d52-8d26-34574d738150",
   "metadata": {},
   "outputs": [
    {
     "name": "stdout",
     "output_type": "stream",
     "text": [
      "Matriz resultado:\n",
      "[-4, 10]\n",
      "[1, 15]\n"
     ]
    }
   ],
   "source": [
    "def multiplicar_matrices(A, B):\n",
    "    # Verificar si las matrices son compatibles para la multiplicación\n",
    "    if len(A[0]) != len(B):\n",
    "        raise ValueError(\"El número de columnas de A debe ser igual al número de filas de B\")\n",
    "\n",
    "    # Inicializar la matriz resultante con ceros\n",
    "    filas_A, columnas_A = len(A), len(A[0])\n",
    "    filas_B, columnas_B = len(B), len(B[0])\n",
    "    resultado = [[0 for _ in range(columnas_B)] for _ in range(filas_A)]\n",
    "\n",
    "    # Realizar la multiplicación de matrices\n",
    "    for i in range(filas_A):\n",
    "        for j in range(columnas_B):\n",
    "            for k in range(columnas_A):\n",
    "                resultado[i][j] += A[i][k] * B[k][j]\n",
    "    \n",
    "    return resultado\n",
    "\n",
    "\n",
    "# Ejemplo de uso\n",
    "A = [[2, -3], \n",
    "     [3, -1]]\n",
    "\n",
    "B = [[1, 5], \n",
    "     [2, 0]]\n",
    "\n",
    "resultado = multiplicar_matrices(A, B)\n",
    "\n",
    "print(\"Matriz resultado:\")\n",
    "for fila in resultado:\n",
    "    print(fila)\n"
   ]
  },
  {
   "cell_type": "markdown",
   "id": "a384b4b0-2320-4480-bc83-2beb6a08b1f2",
   "metadata": {},
   "source": [
    "Otra froma de realizar la multiplicación de matrices es utilizando NumPy, que es mucho más eficiente y simple"
   ]
  },
  {
   "cell_type": "code",
   "execution_count": 15,
   "id": "3b3a8baf-f046-4209-a1a8-3be9703d40a4",
   "metadata": {},
   "outputs": [
    {
     "name": "stdout",
     "output_type": "stream",
     "text": [
      "Resultado de a):\n",
      " [[-4 10]\n",
      " [ 1 15]]\n"
     ]
    }
   ],
   "source": [
    "import numpy as np\n",
    "\n",
    "A = np.array([[2, -3], \n",
    "              [3, -1]])\n",
    "\n",
    "B = np.array([[1, 5], \n",
    "              [2, 0]])\n",
    "\n",
    "resultado_a = np.dot(A, B)\n",
    "\n",
    "print(\"Resultado de a):\\n\", resultado_a)\n"
   ]
  },
  {
   "cell_type": "markdown",
   "id": "4a5e21cb-5c17-4e0b-ab64-29ae5720e2a8",
   "metadata": {},
   "source": [
    "### b)"
   ]
  },
  {
   "cell_type": "code",
   "execution_count": 16,
   "id": "6735855a-f5d5-4b78-901b-dbd63e199da1",
   "metadata": {},
   "outputs": [
    {
     "name": "stdout",
     "output_type": "stream",
     "text": [
      "Resultado de b):\n",
      " [[ 11   4  -8]\n",
      " [  6  13 -12]]\n"
     ]
    }
   ],
   "source": [
    "A = np.array([[2, -3], [3, -1]])\n",
    "\n",
    "B = np.array([[1, 5, -4], [-3, 2, 0]])\n",
    "\n",
    "resultado_b = np.dot(A, B)\n",
    "\n",
    "print(\"Resultado de b):\\n\", resultado_b)\n"
   ]
  },
  {
   "cell_type": "markdown",
   "id": "5cb73047-8fb7-46ee-801b-45c643a91a74",
   "metadata": {},
   "source": [
    "### c)"
   ]
  },
  {
   "cell_type": "code",
   "execution_count": 17,
   "id": "9615a23a-2f04-4cc7-a22c-358eb0d2468f",
   "metadata": {},
   "outputs": [
    {
     "name": "stdout",
     "output_type": "stream",
     "text": [
      "Resultado de c):\n",
      " [[  1   3   3  -3]\n",
      " [  7   0   1 -11]\n",
      " [ -1 -12  11  -4]]\n"
     ]
    }
   ],
   "source": [
    "A = np.array([[2, -3, 1], [4, 3, 0], [5, 2, -4]])\n",
    "\n",
    "B = np.array([[1, 0, 1, -2], [1, 0, -1, -1], [2, 3, -2, -2]])\n",
    "\n",
    "resultado_c = np.dot(A, B)\n",
    "\n",
    "print(\"Resultado de c):\\n\", resultado_c)\n"
   ]
  },
  {
   "cell_type": "markdown",
   "id": "f0e2e8eb-8578-4d63-afec-e425755d08e7",
   "metadata": {},
   "source": [
    "### d)"
   ]
  },
  {
   "cell_type": "code",
   "execution_count": 18,
   "id": "cbd01090-dddc-4e94-b99a-8f9b8320d7fb",
   "metadata": {},
   "outputs": [
    {
     "name": "stdout",
     "output_type": "stream",
     "text": [
      "Resultado de d):\n",
      " [[ -2   1]\n",
      " [-14   7]\n",
      " [  6   1]]\n"
     ]
    }
   ],
   "source": [
    "A = np.array([[2, 1, 2], [-2, 3, 0], [2, -1, 3]])\n",
    "\n",
    "B = np.array([[1, -2], [-4, 1], [0, 2]])\n",
    "\n",
    "resultado_d = np.dot(A, B)\n",
    "\n",
    "print(\"Resultado de d):\\n\", resultado_d)\n"
   ]
  },
  {
   "cell_type": "markdown",
   "id": "4ee44526-4a75-44f9-8bfa-dbb4a185d74c",
   "metadata": {},
   "source": [
    "## 2.Determine cuáles de las siguientes matrices son no singulares y calcule la inversa de esas matrices: "
   ]
  },
  {
   "cell_type": "code",
   "execution_count": 22,
   "id": "d6b9e80e-040c-407b-b08b-947094acceeb",
   "metadata": {},
   "outputs": [],
   "source": [
    "import numpy as np\n",
    "\n",
    "def analizar_matriz(matriz):\n",
    "    \"\"\"\n",
    "    Verifica si una matriz es no singular y, de serlo, calcula su inversa.\n",
    "\n",
    "    Parámetros:\n",
    "        matriz (numpy.ndarray): La matriz a analizar.\n",
    "\n",
    "    Retorna:  Información sobre si la matriz es singular o no, y su inversa si aplica.\n",
    "    \"\"\"\n",
    "    try:\n",
    "        # Calcular el determinante\n",
    "        determinante = np.linalg.det(matriz)\n",
    "        resultado = f\"Matriz:\\n{matriz}\\nDeterminante: {determinante:.2f}\\n\"\n",
    "\n",
    "        # Verificar si la matriz es no singular\n",
    "        if determinante != 0:\n",
    "            inversa = np.linalg.inv(matriz)\n",
    "            resultado += \"La matriz es no singular.\\nInversa:\\n\"\n",
    "            resultado += f\"{inversa}\\n\"\n",
    "        else:\n",
    "            resultado += \"La matriz es singular y no tiene inversa.\\n\"\n",
    "\n",
    "        return resultado\n",
    "\n",
    "    except np.linalg.LinAlgError as e:\n",
    "        return f\"Error al analizar la matriz: {e}\"\n",
    "\n"
   ]
  },
  {
   "cell_type": "markdown",
   "id": "cfcba88a-38d0-4439-9334-b9e4c49f0935",
   "metadata": {},
   "source": [
    "### a)"
   ]
  },
  {
   "cell_type": "code",
   "execution_count": 23,
   "id": "8c59edb5-260f-4d4d-acea-67aa8c80bde4",
   "metadata": {},
   "outputs": [
    {
     "name": "stdout",
     "output_type": "stream",
     "text": [
      "Matriz:\n",
      "[[ 4  2  6]\n",
      " [ 3  0  7]\n",
      " [-2 -1 -3]]\n",
      "Determinante: 0.00\n",
      "La matriz es singular y no tiene inversa.\n",
      "\n"
     ]
    }
   ],
   "source": [
    "matrizA = np.array([[4, 2, 6], [3, 0, 7], [-2, -1, -3]])\n",
    "resultado = analizar_matriz(matrizA)\n",
    "print(resultado)"
   ]
  },
  {
   "cell_type": "markdown",
   "id": "eaec3e07-797a-436e-a19c-6302ab6792a1",
   "metadata": {},
   "source": [
    "## b)"
   ]
  },
  {
   "cell_type": "code",
   "execution_count": 24,
   "id": "b7529262-aa26-4b80-ac89-e4de4217fdd5",
   "metadata": {},
   "outputs": [
    {
     "name": "stdout",
     "output_type": "stream",
     "text": [
      "Matriz:\n",
      "[[ 1  2  0]\n",
      " [ 2  1 -1]\n",
      " [ 3  1  1]]\n",
      "Determinante: -8.00\n",
      "La matriz es no singular.\n",
      "Inversa:\n",
      "[[-0.25   0.25   0.25 ]\n",
      " [ 0.625 -0.125 -0.125]\n",
      " [ 0.125 -0.625  0.375]]\n",
      "\n"
     ]
    }
   ],
   "source": [
    "matrizB = np.array([[1, 2, 0], [2, 1, -1], [3, 1, 1]])\n",
    "resultado = analizar_matriz(matrizB)\n",
    "print(resultado)"
   ]
  },
  {
   "cell_type": "markdown",
   "id": "5b4cdb65-3be1-412d-932f-cf5b7f8ef6d4",
   "metadata": {},
   "source": [
    "### c)"
   ]
  },
  {
   "cell_type": "code",
   "execution_count": 25,
   "id": "4f4f7243-5186-4ba3-93af-5b93ced35f1b",
   "metadata": {},
   "outputs": [
    {
     "name": "stdout",
     "output_type": "stream",
     "text": [
      "Matriz:\n",
      "[[ 1  1 -1  1]\n",
      " [ 1  2 -4 -2]\n",
      " [ 2  1  1  5]\n",
      " [-1  0 -2 -4]]\n",
      "Determinante: 0.00\n",
      "La matriz es singular y no tiene inversa.\n",
      "\n"
     ]
    }
   ],
   "source": [
    "matrizC = np.array([[1, 1, -1, 1], [1, 2, -4, -2], [2, 1, 1, 5], [-1, 0, -2, -4]])\n",
    "resultado = analizar_matriz(matrizC)\n",
    "print(resultado)"
   ]
  },
  {
   "cell_type": "markdown",
   "id": "769c3901-6213-4253-9af7-dfcfae6d6bfb",
   "metadata": {},
   "source": [
    "### d)"
   ]
  },
  {
   "cell_type": "code",
   "execution_count": 26,
   "id": "a6e8068e-8f73-4fd7-a18f-88e6588d097a",
   "metadata": {},
   "outputs": [
    {
     "name": "stdout",
     "output_type": "stream",
     "text": [
      "Matriz:\n",
      "[[ 4  0  0  0]\n",
      " [ 6  7  0  0]\n",
      " [ 9 11  1  0]\n",
      " [ 5  4  1  1]]\n",
      "Determinante: 28.00\n",
      "La matriz es no singular.\n",
      "Inversa:\n",
      "[[ 0.25        0.          0.          0.        ]\n",
      " [-0.21428571  0.14285714 -0.         -0.        ]\n",
      " [ 0.10714286 -1.57142857  1.         -0.        ]\n",
      " [-0.5         1.         -1.          1.        ]]\n",
      "\n"
     ]
    }
   ],
   "source": [
    "matrizD = np.array([[4, 0, 0, 0], [6, 7, 0, 0], [9, 11, 1, 0], [5, 4, 1, 1]])\n",
    "resultado = analizar_matriz(matrizD)\n",
    "print(resultado)"
   ]
  },
  {
   "cell_type": "markdown",
   "id": "b08f73b5-fc86-4b6c-a98d-240b1fd22ca4",
   "metadata": {},
   "source": [
    "## 3.Resuelva los sistemas lineales 4 x 4 que tienen la misma matriz de coeficientes:"
   ]
  },
  {
   "cell_type": "code",
   "execution_count": 28,
   "id": "38ad4bd5-1a21-4083-96e8-ba64a0d9e779",
   "metadata": {},
   "outputs": [],
   "source": [
    "%load_ext autoreload"
   ]
  },
  {
   "cell_type": "code",
   "execution_count": 34,
   "id": "79132123-ed1a-4024-9eff-645c9521f650",
   "metadata": {},
   "outputs": [
    {
     "name": "stdout",
     "output_type": "stream",
     "text": [
      "[01-23 19:16:33][INFO] \n",
      "[[ 1. -1.  2. -1.]\n",
      " [ 0.  1. -3.  2.]\n",
      " [ 0.  3. -1. -2.]\n",
      " [ 0. -1.  1. -1.]]\n",
      "[01-23 19:16:33][INFO] \n",
      "[[ 1. -1.  2. -1.]\n",
      " [ 0.  1. -3.  2.]\n",
      " [ 0.  0.  8. -8.]\n",
      " [ 0.  0. -2.  1.]]\n",
      "[01-23 19:16:33][INFO] \n",
      "[[ 1. -1.  2. -1.]\n",
      " [ 0.  1. -3.  2.]\n",
      " [ 0.  0.  8. -8.]\n",
      " [ 0.  0.  0. -1.]]\n",
      "[01-23 19:16:33][INFO] \n",
      "[[ 1. -1.  2. -1.]\n",
      " [ 0.  1. -3.  2.]\n",
      " [ 0.  0.  8. -8.]\n",
      " [ 0.  0.  0. -1.]]\n",
      "[01-23 19:16:33][INFO] Sustitución hacia adelante\n",
      "[01-23 19:16:33][INFO] y = \n",
      "[[ 6.]\n",
      " [-2.]\n",
      " [-8.]\n",
      " [ 1.]]\n",
      "[01-23 19:16:33][INFO] Sustitución hacia atrás\n",
      "[01-23 19:16:33][INFO] i = 2\n",
      "[01-23 19:16:33][INFO] suma = [8.]\n",
      "[01-23 19:16:33][INFO] U[i, i] = 8.0\n",
      "[01-23 19:16:33][INFO] y[i] = [-8.]\n",
      "[01-23 19:16:33][INFO] i = 1\n",
      "[01-23 19:16:33][INFO] suma = [4.]\n",
      "[01-23 19:16:33][INFO] U[i, i] = 1.0\n",
      "[01-23 19:16:33][INFO] y[i] = [-2.]\n",
      "[01-23 19:16:33][INFO] i = 0\n",
      "[01-23 19:16:33][INFO] suma = [3.]\n",
      "[01-23 19:16:33][INFO] U[i, i] = 1.0\n",
      "[01-23 19:16:33][INFO] y[i] = [6.]\n",
      "[01-23 19:16:33][INFO] Sustitución hacia adelante\n",
      "[01-23 19:16:33][INFO] y = \n",
      "[[ 1.]\n",
      " [ 0.]\n",
      " [ 0.]\n",
      " [-1.]]\n",
      "[01-23 19:16:33][INFO] Sustitución hacia atrás\n",
      "[01-23 19:16:33][INFO] i = 2\n",
      "[01-23 19:16:33][INFO] suma = [-8.]\n",
      "[01-23 19:16:33][INFO] U[i, i] = 8.0\n",
      "[01-23 19:16:33][INFO] y[i] = [0.]\n",
      "[01-23 19:16:33][INFO] i = 1\n",
      "[01-23 19:16:33][INFO] suma = [-1.]\n",
      "[01-23 19:16:33][INFO] U[i, i] = 1.0\n",
      "[01-23 19:16:33][INFO] y[i] = [0.]\n",
      "[01-23 19:16:33][INFO] i = 0\n",
      "[01-23 19:16:33][INFO] suma = [0.]\n",
      "[01-23 19:16:33][INFO] U[i, i] = 1.0\n",
      "[01-23 19:16:33][INFO] y[i] = [1.]\n",
      "\n",
      "Matriz L:\n",
      "[[ 1.    0.    0.    0.  ]\n",
      " [ 1.    1.    0.    0.  ]\n",
      " [ 2.    3.    1.    0.  ]\n",
      " [ 0.   -1.   -0.25  1.  ]]\n",
      "\n",
      "Matriz U:\n",
      "[[ 1. -1.  2. -1.]\n",
      " [ 0.  1. -3.  2.]\n",
      " [ 0.  0.  8. -8.]\n",
      " [ 0.  0.  0. -1.]]\n",
      "\n",
      "Solución del sistema 1:\n",
      "[[ 3.]\n",
      " [-6.]\n",
      " [-2.]\n",
      " [-1.]]\n",
      "\n",
      "Solución del sistema 2:\n",
      "[[1.]\n",
      " [1.]\n",
      " [1.]\n",
      " [1.]]\n"
     ]
    }
   ],
   "source": [
    "%autoreload 2\n",
    "from src import (\n",
    "    descomposicion_LU,\n",
    "    resolver_LU\n",
    ")\n",
    "\n",
    "A = np.array([\n",
    "    [1, -1, 2, -1],\n",
    "    [1, 0, -1, 1],\n",
    "    [2, 1, 3, -4],\n",
    "    [0, -1, 1, -1]\n",
    "])\n",
    "\n",
    "b1 = np.array([6, 4, -2, 5])  \n",
    "b2 = np.array([1, 1, 2, -1])  \n",
    "\n",
    "# Descomposición LU\n",
    "L, U = descomposicion_LU(A)\n",
    "\n",
    "# Resolver el sistema\n",
    "x1 = resolver_LU(L, U, b1)\n",
    "x2 = resolver_LU(L, U, b2)\n",
    "\n",
    "print(\"\\nMatriz L:\")\n",
    "print(L)\n",
    "print(\"\\nMatriz U:\")\n",
    "print(U)\n",
    "print(\"\\nSolución del sistema 1:\")\n",
    "print(x1)\n",
    "print(\"\\nSolución del sistema 2:\")\n",
    "print(x2)"
   ]
  },
  {
   "cell_type": "markdown",
   "id": "f0923d19-f7cd-498e-b686-3b927ff3ff8b",
   "metadata": {},
   "source": [
    "## 4. Encuentre los valores de A que hacen que la siguiente matriz sea singular."
   ]
  },
  {
   "cell_type": "code",
   "execution_count": 27,
   "id": "1b2130e2-cc13-42ea-88f4-17fb657e8750",
   "metadata": {},
   "outputs": [
    {
     "name": "stdout",
     "output_type": "stream",
     "text": [
      "Determinante de A: 2*alpha**2 - alpha - 6.0\n",
      "Valores de alpha que hacen que A sea singular: [-1.50000000000000, 2.00000000000000]\n"
     ]
    }
   ],
   "source": [
    "import sympy as sp\n",
    "\n",
    "alpha = sp.symbols('alpha')\n",
    "\n",
    "A = sp.Matrix([\n",
    "    [1, -1, alpha],\n",
    "    [2, 2, 1],\n",
    "    [0, alpha, -3/2]\n",
    "])\n",
    "\n",
    "det_A = A.det()\n",
    "solutions = sp.solve(det_A, alpha)\n",
    "\n",
    "print(f\"Determinante de A: {det_A}\")\n",
    "print(f\"Valores de alpha que hacen que A sea singular: {solutions}\")"
   ]
  },
  {
   "cell_type": "markdown",
   "id": "8743d341-8f58-4e69-ad06-e595b9be7b13",
   "metadata": {},
   "source": [
    "## 5.Resuelva los siguientes sistemas lineales:"
   ]
  },
  {
   "cell_type": "code",
   "execution_count": 50,
   "id": "1396f9b0-16ae-41bc-b1ca-fe8984edd9ca",
   "metadata": {},
   "outputs": [
    {
     "name": "stdout",
     "output_type": "stream",
     "text": [
      "[01-23 20:10:34][INFO] Sustitución hacia adelante\n",
      "[01-23 20:10:34][INFO] y = \n",
      "[[ 2.]\n",
      " [-5.]\n",
      " [ 3.]]\n",
      "[01-23 20:10:34][INFO] Sustitución hacia atrás\n",
      "[01-23 20:10:34][INFO] i = 1\n",
      "[01-23 20:10:34][INFO] suma = [1.]\n",
      "[01-23 20:10:34][INFO] U[i, i] = -2\n",
      "[01-23 20:10:34][INFO] y[i] = [-5.]\n",
      "[01-23 20:10:34][INFO] i = 0\n",
      "[01-23 20:10:34][INFO] suma = [8.]\n",
      "[01-23 20:10:34][INFO] U[i, i] = 2\n",
      "[01-23 20:10:34][INFO] y[i] = [2.]\n",
      "\n",
      "Solución del sistema a:\n",
      "[[-3.]\n",
      " [ 3.]\n",
      " [ 1.]]\n"
     ]
    }
   ],
   "source": [
    "L = np.array([[1, 0, 0],\n",
    "     [2, 1, 0],\n",
    "     [-1, 0, 1]])\n",
    "\n",
    "U= np.array([[2, 3, -1],\n",
    "    [0, -2, 1],\n",
    "    [0, 0, 3]])\n",
    "\n",
    "b = np.array([2, -1, 1])\n",
    "\n",
    "x_a = resolver_LU(L, U, b)\n",
    "\n",
    "print(\"\\nSolución del sistema a:\")\n",
    "print(x_a)"
   ]
  },
  {
   "cell_type": "code",
   "execution_count": 52,
   "id": "85ccb2fe-3012-4a12-b8e5-68420745a2ea",
   "metadata": {},
   "outputs": [
    {
     "name": "stdout",
     "output_type": "stream",
     "text": [
      "[01-23 20:14:02][INFO] Sustitución hacia adelante\n",
      "[01-23 20:14:02][INFO] y = \n",
      "[[-0.5]\n",
      " [ 2.5]\n",
      " [ 3.5]]\n",
      "[01-23 20:14:02][INFO] Sustitución hacia atrás\n",
      "[01-23 20:14:02][INFO] i = 1\n",
      "[01-23 20:14:02][INFO] suma = [7.]\n",
      "[01-23 20:14:02][INFO] U[i, i] = 1\n",
      "[01-23 20:14:02][INFO] y[i] = [2.5]\n",
      "[01-23 20:14:02][INFO] i = 0\n",
      "[01-23 20:14:02][INFO] suma = [-1.]\n",
      "[01-23 20:14:02][INFO] U[i, i] = 1\n",
      "[01-23 20:14:02][INFO] y[i] = [-0.5]\n",
      "\n",
      "Solución del sistema b:\n",
      "[[ 0.5]\n",
      " [-4.5]\n",
      " [ 3.5]]\n"
     ]
    }
   ],
   "source": [
    "L = np.array([[2, 0, 0],\n",
    "              [-1, 1, 0],\n",
    "              [3, 2, -1]])\n",
    "\n",
    "U= np.array([[1, 1, 1],\n",
    "             [0, 1, 2],\n",
    "             [0, 0, 1]])\n",
    "\n",
    "b = np.array([-1, 3, 0])\n",
    "\n",
    "x_b = resolver_LU(L, U, b)\n",
    "\n",
    "print(\"\\nSolución del sistema b:\")\n",
    "print(x_b)"
   ]
  },
  {
   "cell_type": "markdown",
   "id": "05759df0-e729-4ac1-8d8b-565d2efdb576",
   "metadata": {},
   "source": [
    "## 6. Factorice las siguientes matrices en la descomposición LU mediante el algoritmo de factorización LU con $lii = 1$ para todas las $i$"
   ]
  },
  {
   "cell_type": "code",
   "execution_count": 42,
   "id": "4630bd0d-e379-414b-a0ec-1b72dd1e9cfc",
   "metadata": {},
   "outputs": [
    {
     "name": "stdout",
     "output_type": "stream",
     "text": [
      "[01-23 19:50:21][INFO] \n",
      "[[ 2.  -1.   1. ]\n",
      " [ 0.   4.5  7.5]\n",
      " [ 0.   4.5  3.5]]\n",
      "[01-23 19:50:22][INFO] \n",
      "[[ 2.  -1.   1. ]\n",
      " [ 0.   4.5  7.5]\n",
      " [ 0.   0.  -4. ]]\n",
      "[01-23 19:50:22][INFO] \n",
      "[[ 2.  -1.   1. ]\n",
      " [ 0.   4.5  7.5]\n",
      " [ 0.   0.  -4. ]]\n",
      "\n",
      "Factorización LU de la matriz a:\n",
      "\n",
      "Matriz L:\n",
      "[[1.  0.  0. ]\n",
      " [1.5 1.  0. ]\n",
      " [1.5 1.  1. ]]\n",
      "\n",
      "Matriz U:\n",
      "[[ 2.  -1.   1. ]\n",
      " [ 0.   4.5  7.5]\n",
      " [ 0.   0.  -4. ]]\n"
     ]
    }
   ],
   "source": [
    "A_a = [[2, -1, 1],\n",
    "       [3, 3, 9],\n",
    "       [3, 3, 5]]\n",
    "\n",
    "# Descomposición LU\n",
    "L, U = descomposicion_LU(A_a)\n",
    "\n",
    "print(\"\\nFactorización LU de la matriz a:\")\n",
    "print(\"\\nMatriz L:\")\n",
    "print(L)\n",
    "print(\"\\nMatriz U:\")\n",
    "print(U)"
   ]
  },
  {
   "cell_type": "code",
   "execution_count": 39,
   "id": "827d370e-6eaa-4987-aad9-627ee69ff1a5",
   "metadata": {},
   "outputs": [
    {
     "name": "stdout",
     "output_type": "stream",
     "text": [
      "[01-23 19:49:51][INFO] \n",
      "[[ 1.012      -2.132       3.104     ]\n",
      " [ 0.         -0.39552569 -0.47374308]\n",
      " [ 0.         -0.47374308 -9.50656917]]\n",
      "[01-23 19:49:51][INFO] \n",
      "[[ 1.012      -2.132       3.104     ]\n",
      " [ 0.         -0.39552569 -0.47374308]\n",
      " [ 0.          0.         -8.93914077]]\n",
      "[01-23 19:49:51][INFO] \n",
      "[[ 1.012      -2.132       3.104     ]\n",
      " [ 0.         -0.39552569 -0.47374308]\n",
      " [ 0.          0.         -8.93914077]]\n",
      "\n",
      "Factorización LU de la matriz b:\n",
      "\n",
      "Matriz L:\n",
      "[[ 1.          0.          0.        ]\n",
      " [-2.10671937  1.          0.        ]\n",
      " [ 3.06719368  1.19775553  1.        ]]\n",
      "\n",
      "Matriz U:\n",
      "[[ 1.012      -2.132       3.104     ]\n",
      " [ 0.         -0.39552569 -0.47374308]\n",
      " [ 0.          0.         -8.93914077]]\n"
     ]
    }
   ],
   "source": [
    "A_b = [[1.012, -2.132, 3.104],\n",
    "       [-2.132, 4.096, -7.013],\n",
    "       [3.104, -7.013, 0.014]]\n",
    "\n",
    "# Descomposición LU\n",
    "L, U = descomposicion_LU(A_b)\n",
    "print(\"\\nFactorización LU de la matriz b:\")\n",
    "print(\"\\nMatriz L:\")\n",
    "print(L)\n",
    "print(\"\\nMatriz U:\")\n",
    "print(U)"
   ]
  },
  {
   "cell_type": "code",
   "execution_count": 40,
   "id": "54e442a9-16a7-43b2-be65-6bdfc7a180d7",
   "metadata": {},
   "outputs": [
    {
     "name": "stdout",
     "output_type": "stream",
     "text": [
      "[01-23 19:49:53][INFO] \n",
      "[[ 2.   0.   0.   0. ]\n",
      " [ 0.   1.5  0.   0. ]\n",
      " [ 0.  -3.   0.5  0. ]\n",
      " [ 0.  -2.   1.   1. ]]\n",
      "[01-23 19:49:53][INFO] \n",
      "[[2.  0.  0.  0. ]\n",
      " [0.  1.5 0.  0. ]\n",
      " [0.  0.  0.5 0. ]\n",
      " [0.  0.  1.  1. ]]\n",
      "[01-23 19:49:53][INFO] \n",
      "[[2.  0.  0.  0. ]\n",
      " [0.  1.5 0.  0. ]\n",
      " [0.  0.  0.5 0. ]\n",
      " [0.  0.  0.  1. ]]\n",
      "[01-23 19:49:53][INFO] \n",
      "[[2.  0.  0.  0. ]\n",
      " [0.  1.5 0.  0. ]\n",
      " [0.  0.  0.5 0. ]\n",
      " [0.  0.  0.  1. ]]\n",
      "\n",
      "Factorización LU de la matriz c:\n",
      "\n",
      "Matriz L:\n",
      "[[ 1.          0.          0.          0.        ]\n",
      " [ 0.5         1.          0.          0.        ]\n",
      " [ 0.         -2.          1.          0.        ]\n",
      " [ 1.         -1.33333333  2.          1.        ]]\n",
      "\n",
      "Matriz U:\n",
      "[[2.  0.  0.  0. ]\n",
      " [0.  1.5 0.  0. ]\n",
      " [0.  0.  0.5 0. ]\n",
      " [0.  0.  0.  1. ]]\n"
     ]
    }
   ],
   "source": [
    "A_c = [[2, 0, 0, 0],\n",
    "       [1, 1.5, 0, 0],\n",
    "       [0, -3, 0.5, 0],\n",
    "       [2, -2, 1, 1]]\n",
    "\n",
    "# Descomposición LU\n",
    "L, U = descomposicion_LU(A_c)\n",
    "print(\"\\nFactorización LU de la matriz c:\")\n",
    "print(\"\\nMatriz L:\")\n",
    "print(L)\n",
    "print(\"\\nMatriz U:\")\n",
    "print(U)"
   ]
  },
  {
   "cell_type": "code",
   "execution_count": 41,
   "id": "745c8487-13f5-4c25-a948-4550b52dc59e",
   "metadata": {},
   "outputs": [
    {
     "name": "stdout",
     "output_type": "stream",
     "text": [
      "[01-23 19:49:56][INFO] \n",
      "[[  2.1756       4.0231      -2.1732       5.1967    ]\n",
      " [  0.          13.43948042  -4.01866194  10.80699101]\n",
      " [  0.          -3.36150897   0.11220314   2.38862842]\n",
      " [  0.          -4.13860216   6.01685521 -18.54400331]]\n",
      "[01-23 19:49:56][INFO] \n",
      "[[ 2.17560000e+00  4.02310000e+00 -2.17320000e+00  5.19670000e+00]\n",
      " [ 0.00000000e+00  1.34394804e+01 -4.01866194e+00  1.08069910e+01]\n",
      " [ 0.00000000e+00  4.44089210e-16 -8.92952394e-01  5.09169403e+00]\n",
      " [ 0.00000000e+00  0.00000000e+00  4.77933394e+00 -1.52160595e+01]]\n",
      "[01-23 19:49:56][INFO] \n",
      "[[ 2.17560000e+00  4.02310000e+00 -2.17320000e+00  5.19670000e+00]\n",
      " [ 0.00000000e+00  1.34394804e+01 -4.01866194e+00  1.08069910e+01]\n",
      " [ 0.00000000e+00  4.44089210e-16 -8.92952394e-01  5.09169403e+00]\n",
      " [ 0.00000000e+00  0.00000000e+00  0.00000000e+00  1.20361280e+01]]\n",
      "[01-23 19:49:56][INFO] \n",
      "[[ 2.17560000e+00  4.02310000e+00 -2.17320000e+00  5.19670000e+00]\n",
      " [ 0.00000000e+00  1.34394804e+01 -4.01866194e+00  1.08069910e+01]\n",
      " [ 0.00000000e+00  4.44089210e-16 -8.92952394e-01  5.09169403e+00]\n",
      " [ 0.00000000e+00  0.00000000e+00  0.00000000e+00  1.20361280e+01]]\n",
      "\n",
      "Factorización LU de la matriz d:\n",
      "\n",
      "Matriz L:\n",
      "[[ 1.          0.          0.          0.        ]\n",
      " [-1.84919103  1.          0.          0.        ]\n",
      " [-0.45964332 -0.25012194  1.          0.        ]\n",
      " [ 2.76866152 -0.30794361 -5.35228302  1.        ]]\n",
      "\n",
      "Matriz U:\n",
      "[[ 2.17560000e+00  4.02310000e+00 -2.17320000e+00  5.19670000e+00]\n",
      " [ 0.00000000e+00  1.34394804e+01 -4.01866194e+00  1.08069910e+01]\n",
      " [ 0.00000000e+00  4.44089210e-16 -8.92952394e-01  5.09169403e+00]\n",
      " [ 0.00000000e+00  0.00000000e+00  0.00000000e+00  1.20361280e+01]]\n"
     ]
    }
   ],
   "source": [
    "A_d = [[2.1756, 4.0231, -2.1732, 5.1967],\n",
    "       [-4.0231, 6.0000, 0, 1.1973],\n",
    "       [-1.0000, -5.2107, 1.1111, 0],\n",
    "       [6.0235, 7.0000, 0, -4.1561]]\n",
    "\n",
    "# Descomposición LU\n",
    "L, U = descomposicion_LU(A_d)\n",
    "print(\"\\nFactorización LU de la matriz d:\")\n",
    "print(\"\\nMatriz L:\")\n",
    "print(L)\n",
    "print(\"\\nMatriz U:\")\n",
    "print(U)"
   ]
  },
  {
   "cell_type": "markdown",
   "id": "336416b0-8b15-41a5-80f5-2dced9abfb31",
   "metadata": {},
   "source": [
    "## 7. Modifique el algoritmo de eliminación gaussiana de tal forma que se pueda utilizar para resolver un sistema lineal usando la descomposición LU y, a continuación, resuelva los siguientes sistemas lineales."
   ]
  },
  {
   "cell_type": "code",
   "execution_count": 64,
   "id": "646b3d35-eb15-471c-a325-33ac96b7c807",
   "metadata": {},
   "outputs": [],
   "source": [
    "import numpy as np\n",
    "\n",
    "def lu_decomposition(a):\n",
    "    n = len(a)\n",
    "    L = np.zeros((n, n))\n",
    "    U = np.zeros((n, n))\n",
    "\n",
    "    for i in range(n):\n",
    "        # Calcula la matriz U\n",
    "        for k in range(i, n):\n",
    "            suma = sum(L[i][j] * U[j][k] for j in range(i))\n",
    "            U[i][k] = a[i][k] - suma\n",
    "\n",
    "        for k in range(i, n):\n",
    "            if i == k:\n",
    "                L[i][i] = 1  \n",
    "            else:\n",
    "                suma = sum(L[k][j] * U[j][i] for j in range(i))\n",
    "                L[k][i] = (a[k][i] - suma) / U[i][i]\n",
    "\n",
    "    return L, U\n",
    "\n",
    "def forward_substitution(L, b):\n",
    "    n = len(b)\n",
    "    y = np.zeros(n)\n",
    "    for i in range(n):\n",
    "        y[i] = (b[i] - sum(L[i][j] * y[j] for j in range(i))) / L[i][i]\n",
    "    return y\n",
    "\n",
    "def backward_substitution(U, y):\n",
    "    n = len(y)\n",
    "    x = np.zeros(n)\n",
    "    for i in range(n - 1, -1, -1):\n",
    "        x[i] = (y[i] - sum(U[i][j] * x[j] for j in range(i + 1, n))) / U[i][i]\n",
    "    return x\n",
    "\n",
    "def solve_lu(a, b):\n",
    "    L, U = lu_decomposition(a)\n",
    "    y = forward_substitution(L, b)\n",
    "    x = backward_substitution(U, y)\n",
    "    return x\n"
   ]
  },
  {
   "cell_type": "markdown",
   "id": "56082c4a-f162-4503-9732-7313edff6c02",
   "metadata": {},
   "source": [
    "### a."
   ]
  },
  {
   "cell_type": "code",
   "execution_count": 73,
   "id": "b470cd66-191c-44a7-bd36-c2033759434c",
   "metadata": {},
   "outputs": [
    {
     "name": "stdout",
     "output_type": "stream",
     "text": [
      "Solución del sistema a:\n",
      "[ 1.  2. -1.]\n"
     ]
    }
   ],
   "source": [
    "A=np.array([[2, -1, 1],\n",
    "            [3, 3, 9],\n",
    "            [3, 3, 5]], dtype=float)\n",
    "\n",
    "b= np.array([-1, 0, 4], dtype=float)\n",
    "\n",
    "# Descomposición LU\n",
    "L, U = descomposicion_LU_modificada(A)\n",
    "# Resolver el sistema\n",
    "x = solve_lu(A, b)\n",
    "\n",
    "print(\"Solución del sistema a:\")\n",
    "print(x)"
   ]
  },
  {
   "cell_type": "markdown",
   "id": "36608e46-6ca1-4d77-91fd-fa3c601d68d5",
   "metadata": {},
   "source": [
    "### b."
   ]
  },
  {
   "cell_type": "code",
   "execution_count": 72,
   "id": "0ba58494-5154-4d5a-a800-c2ac98bb4922",
   "metadata": {},
   "outputs": [
    {
     "name": "stdout",
     "output_type": "stream",
     "text": [
      "Solución del sistema b:\n",
      "[1. 1. 1.]\n"
     ]
    }
   ],
   "source": [
    "A=np.array([\n",
    "            [1.012, -2.132, 3.104],\n",
    "            [-2.132, 4.096, -7.013],\n",
    "            [3.104, -7.013, 0.014]\n",
    "        ])\n",
    "\n",
    "b= np.array([1.984, -5.049, -3.895])\n",
    "\n",
    "# Descomposición LU\n",
    "L, U = descomposicion_LU_modificada(A)\n",
    "# Resolver el sistema\n",
    "x = solve_lu(A, b)\n",
    "\n",
    "print(\"Solución del sistema b:\")\n",
    "print(x)"
   ]
  },
  {
   "cell_type": "markdown",
   "id": "f579ea4d-636f-43f5-8416-2e37e61906dd",
   "metadata": {},
   "source": [
    "### c."
   ]
  },
  {
   "cell_type": "code",
   "execution_count": 71,
   "id": "20694452-66b7-4d34-91e6-45d472727afa",
   "metadata": {},
   "outputs": [
    {
     "name": "stdout",
     "output_type": "stream",
     "text": [
      "Solución del sistema c:\n",
      "[ 1.5  2.  -1.2  6. ]\n"
     ]
    }
   ],
   "source": [
    "A=np.array([\n",
    "            [2, 0, 0, 0],\n",
    "            [1, 1.5, 0, 0],\n",
    "            [0, -3, 0.5, 0],\n",
    "            [0, -2, 1, 1]\n",
    "        ])\n",
    "\n",
    "b= np.array([3, 4.5, -6.6, 0.8])\n",
    "\n",
    "# Descomposición LU\n",
    "L, U = descomposicion_LU_modificada(A)\n",
    "# Resolver el sistema\n",
    "x = solve_lu(A, b)\n",
    "\n",
    "print(\"Solución del sistema c:\")\n",
    "print(x)"
   ]
  },
  {
   "cell_type": "markdown",
   "id": "2009ac60-6bc3-4c9d-ab1b-7bb9f474b0cb",
   "metadata": {},
   "source": [
    "### d."
   ]
  },
  {
   "cell_type": "code",
   "execution_count": 70,
   "id": "5c50b5c3-5d20-468d-bb8f-9915e6979b71",
   "metadata": {},
   "outputs": [
    {
     "name": "stdout",
     "output_type": "stream",
     "text": [
      "Solución del sistema d:\n",
      "[2.9398512  0.0706777  5.67773512 4.37981223]\n"
     ]
    }
   ],
   "source": [
    "A=np.array([\n",
    "            [2.1756, 4.0231, -2.1732, 5.1967],\n",
    "            [-4.0231, 6.0000, 0, 1.1973],\n",
    "            [-1.0000, -5.2107, 1.1111, 0],\n",
    "            [6.0235, 7.0000, 0, -4.1561]\n",
    "        ])\n",
    "\n",
    "b= np.array([17.102, -6.1593, 3.0004, 0])\n",
    "\n",
    "# Descomposición LU\n",
    "L, U = descomposicion_LU_modificada(A)\n",
    "# Resolver el sistema\n",
    "x = solve_lu(A, b)\n",
    "\n",
    "print(\"Solución del sistema d:\")\n",
    "print(x)"
   ]
  }
 ],
 "metadata": {
  "kernelspec": {
   "display_name": "Python 3 (ipykernel)",
   "language": "python",
   "name": "python3"
  },
  "language_info": {
   "codemirror_mode": {
    "name": "ipython",
    "version": 3
   },
   "file_extension": ".py",
   "mimetype": "text/x-python",
   "name": "python",
   "nbconvert_exporter": "python",
   "pygments_lexer": "ipython3",
   "version": "3.12.3"
  }
 },
 "nbformat": 4,
 "nbformat_minor": 5
}
