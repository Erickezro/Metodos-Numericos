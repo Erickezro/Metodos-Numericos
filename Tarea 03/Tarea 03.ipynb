{
 "cells": [
  {
   "cell_type": "markdown",
   "id": "033759d8-0af5-4445-b574-14aefedf20f9",
   "metadata": {},
   "source": [
    "## 1.b"
   ]
  },
  {
   "cell_type": "code",
   "execution_count": null,
   "id": "a8ce9373-2758-4907-a1b3-af0726b43de5",
   "metadata": {},
   "outputs": [
    {
     "name": "stdout",
     "output_type": "stream",
     "text": [
      "Para alcanzar una precisión de 1E-10:\n",
      "Número de términos necesarios: 20,000,000,000\n"
     ]
    }
   ],
   "source": [
    "import math\n",
    "import decimal\n",
    "\n",
    "def calcular_terminos():\n",
    "    \"\"\"\n",
    "    Calcula el número de términos necesarios para alcanzar la precisión deseada\n",
    "    en la serie de arctan(1) = π/4\n",
    "    \"\"\"\n",
    "    # Establecemos precisión para decimal\n",
    "    decimal.getcontext().prec = 20\n",
    "    \n",
    "    # Convertimos el error deseado a Decimal para mayor precisión\n",
    "    ERROR_DESEADO = decimal.Decimal('1E-10')\n",
    "    \n",
    "    # Calculamos el número de términos necesarios\n",
    "    # n ≥ (4/ERROR_DESEADO - 1)/2\n",
    "    fraccion = decimal.Decimal('4') / ERROR_DESEADO\n",
    "    terminos = (fraccion - 1) / 2\n",
    "    \n",
    "    # Redondeamos hacia arriba para garantizar la precisión\n",
    "    return math.ceil(float(terminos))\n",
    "\n",
    "def verificar_precision(n, error_deseado=1e-10):\n",
    "    \"\"\"\n",
    "    Verifica si el número de términos proporciona la precisión deseada\n",
    "    \"\"\"\n",
    "    suma = decimal.Decimal('0')\n",
    "    \n",
    "    # Calculamos los primeros n términos de la serie\n",
    "    for i in range(1, n+1):\n",
    "        termino = decimal.Decimal((-1)**(i+1)) / decimal.Decimal(2*i-1)\n",
    "        suma += termino\n",
    "    \n",
    "    # Multiplicamos por 4 para obtener π\n",
    "    aproximacion_pi = 4 * suma\n",
    "    error = abs(aproximacion_pi - decimal.Decimal(math.pi))\n",
    "    \n",
    "    return error < decimal.Decimal(str(error_deseado))\n",
    "\n",
    "def main():\n",
    "    # Calculamos el número de términos necesarios\n",
    "    n = calcular_terminos()\n",
    "    \n",
    "    print(f\"Para alcanzar una precisión de 1E-10:\")\n",
    "    print(f\"Número de términos necesarios: {n:,}\")\n",
    "    \n",
    "    # Verificamos si la precisión es correcta\n",
    "    if verificar_precision(n):\n",
    "        print(\"La precisión requerida se alcanza\")\n",
    "    else:\n",
    "        print(\"Se necesitan más términos\")\n",
    "\n",
    "if __name__ == \"__main__\":\n",
    "    main()"
   ]
  },
  {
   "cell_type": "markdown",
   "id": "e7c486d0-e41e-4f65-90bf-c1d4cb8ab44f",
   "metadata": {},
   "source": [
    "## 3. "
   ]
  },
  {
   "cell_type": "code",
   "execution_count": 11,
   "id": "7b524663-f3f9-42e8-bf4f-9b4358827d99",
   "metadata": {},
   "outputs": [
    {
     "name": "stdout",
     "output_type": "stream",
     "text": [
      "Se necesitan 3 términos para una aproximación con error menor a 0.00100\n"
     ]
    }
   ],
   "source": [
    "import math\n",
    "\n",
    "# Definir constantes y valores iniciales\n",
    "error_deseado = 10**-3\n",
    "error_actual = 1  # Inicializar con un valor mayor al error deseado\n",
    "\n",
    "# Inicializar el contador de términos\n",
    "n = 1\n",
    "pi_approx = 0  # Inicializar la aproximación de pi\n",
    "\n",
    "# Iterar hasta que el error actual sea menor o igual al error deseado\n",
    "while error_actual > error_deseado:\n",
    "    # Calcular el término de la serie para 1/5 y 1/239\n",
    "    termino1 = (-1)**(n + 1) * (1/5)**(2*n - 1) / (2*n - 1)\n",
    "    termino2 = (-1)**(n + 1) * (1/239)**(2*n - 1) / (2*n - 1)\n",
    "\n",
    "    # Sumar términos a la aproximación de pi\n",
    "    pi_approx += termino1 + termino2\n",
    "\n",
    "    # Calcular el error actual\n",
    "    error_actual = 4 * (abs(termino1) + abs(termino2))\n",
    "\n",
    "    # Incrementar el contador de términos\n",
    "    n += 1\n",
    "\n",
    "# Imprimir resultado\n",
    "print(f\"Se necesitan {n - 1} términos para una aproximación con error menor a {error_deseado:.5f}\")\n"
   ]
  },
  {
   "cell_type": "markdown",
   "id": "bf3abbb9-6690-4a17-962e-805d147f1afd",
   "metadata": {},
   "source": [
    "## 5."
   ]
  },
  {
   "cell_type": "code",
   "execution_count": 12,
   "id": "d43e854e-fd87-4915-bdf6-35a0d3a90cb1",
   "metadata": {},
   "outputs": [
    {
     "name": "stdout",
     "output_type": "stream",
     "text": [
      "Suma total: 415\n",
      "Número de multiplicaciones: 15\n",
      "Número de sumas: 14\n"
     ]
    }
   ],
   "source": [
    "# Definir la suma total\n",
    "suma_total = 0\n",
    "\n",
    "# Inicializar contadores para operaciones\n",
    "num_multiplicaciones = 0\n",
    "num_sumas = 0\n",
    "\n",
    "# Definir n y los arreglos a y b (ejemplo)\n",
    "n = 5  # Puedes ajustar n según sea necesario\n",
    "a = [1, 2, 3, 4, 5]  # Ejemplo de valores para a\n",
    "b = [6, 7, 8, 9, 10]  # Ejemplo de valores para b\n",
    "\n",
    "# Ciclo externo sobre i\n",
    "for i in range(n):\n",
    "    # Ciclo interno sobre j (hasta i)\n",
    "    for j in range(i + 1):\n",
    "        # Multiplicación a_i * b_j\n",
    "        producto = a[i] * b[j]\n",
    "        num_multiplicaciones += 1\n",
    "\n",
    "        # Sumar el producto a la suma total\n",
    "        suma_total += producto\n",
    "        num_sumas += 1\n",
    "\n",
    "# Ajustar el número de sumas ya que el primer término no cuenta como una suma\n",
    "num_sumas -= 1\n",
    "\n",
    "# Mostrar resultados\n",
    "print(f\"Suma total: {suma_total}\")\n",
    "print(f\"Número de multiplicaciones: {num_multiplicaciones}\")\n",
    "print(f\"Número de sumas: {num_sumas}\")\n"
   ]
  },
  {
   "cell_type": "markdown",
   "id": "2242348b-3c2e-4999-910d-73fd6691a21b",
   "metadata": {},
   "source": [
    "# DISCUSIONES"
   ]
  },
  {
   "cell_type": "markdown",
   "id": "f3099584-4ca8-495e-b798-1d4fd4310032",
   "metadata": {},
   "source": [
    "## 2."
   ]
  },
  {
   "cell_type": "code",
   "execution_count": 13,
   "id": "7e7cec69-8e1a-41a9-b54d-82f9d613909b",
   "metadata": {},
   "outputs": [
    {
     "name": "stdin",
     "output_type": "stream",
     "text": [
      "Ingrese el valor de a:  2\n",
      "Ingrese el valor de b:  5\n",
      "Ingrese el valor de c:  -8\n"
     ]
    },
    {
     "name": "stdout",
     "output_type": "stream",
     "text": [
      "Raíz x1: -3.608495283014151\n",
      "Raíz x2: 1.108495283014151\n"
     ]
    }
   ],
   "source": [
    "import cmath  # Importar para manejar números complejos\n",
    "\n",
    "# Entradas\n",
    "a = float(input(\"Ingrese el valor de a: \"))\n",
    "b = float(input(\"Ingrese el valor de b: \"))\n",
    "c = float(input(\"Ingrese el valor de c: \"))\n",
    "\n",
    "# Calcular el discriminante\n",
    "D = b**2 - 4 * a * c\n",
    "\n",
    "# Inicializar variables para las raíces\n",
    "x1 = None\n",
    "x2 = None\n",
    "\n",
    "# Determinar el tipo de raíces basado en el discriminante\n",
    "if D > 0:\n",
    "    # Raíces reales y distintas\n",
    "    if b > 0:\n",
    "        x1 = (-b - (D**0.5)) / (2 * a)\n",
    "        x2 = c / (a * x1)  # Calculamos x2 usando x1 para mayor precisión\n",
    "    else:\n",
    "        x1 = (-b + (D**0.5)) / (2 * a)\n",
    "        x2 = c / (a * x1)\n",
    "elif D == 0:\n",
    "    # Raíces reales e iguales\n",
    "    x1 = -b / (2 * a)\n",
    "    x2 = x1\n",
    "else:\n",
    "    # Raíces complejas conjugadas\n",
    "    parte_real = -b / (2 * a)\n",
    "    parte_imaginaria = ((-D)**0.5) / (2 * a)\n",
    "    x1 = complex(parte_real, parte_imaginaria)\n",
    "    x2 = complex(parte_real, -parte_imaginaria)\n",
    "\n",
    "# Imprimir las raíces\n",
    "print(f\"Raíz x1: {x1}\")\n",
    "print(f\"Raíz x2: {x2}\")\n"
   ]
  }
 ],
 "metadata": {
  "kernelspec": {
   "display_name": "Python 3 (ipykernel)",
   "language": "python",
   "name": "python3"
  },
  "language_info": {
   "codemirror_mode": {
    "name": "ipython",
    "version": 3
   },
   "file_extension": ".py",
   "mimetype": "text/x-python",
   "name": "python",
   "nbconvert_exporter": "python",
   "pygments_lexer": "ipython3",
   "version": "3.12.3"
  }
 },
 "nbformat": 4,
 "nbformat_minor": 5
}
