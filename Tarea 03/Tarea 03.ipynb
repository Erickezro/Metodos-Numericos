{
 "cells": [
  {
   "cell_type": "code",
   "execution_count": null,
   "id": "a8ce9373-2758-4907-a1b3-af0726b43de5",
   "metadata": {},
   "outputs": [
    {
     "name": "stdout",
     "output_type": "stream",
     "text": [
      "Para alcanzar una precisión de 1E-10:\n",
      "Número de términos necesarios: 20,000,000,000\n"
     ]
    }
   ],
   "source": [
    "import math\n",
    "import decimal\n",
    "\n",
    "def calcular_terminos():\n",
    "    \"\"\"\n",
    "    Calcula el número de términos necesarios para alcanzar la precisión deseada\n",
    "    en la serie de arctan(1) = π/4\n",
    "    \"\"\"\n",
    "    # Establecemos precisión para decimal\n",
    "    decimal.getcontext().prec = 20\n",
    "    \n",
    "    # Convertimos el error deseado a Decimal para mayor precisión\n",
    "    ERROR_DESEADO = decimal.Decimal('1E-10')\n",
    "    \n",
    "    # Calculamos el número de términos necesarios\n",
    "    # n ≥ (4/ERROR_DESEADO - 1)/2\n",
    "    fraccion = decimal.Decimal('4') / ERROR_DESEADO\n",
    "    terminos = (fraccion - 1) / 2\n",
    "    \n",
    "    # Redondeamos hacia arriba para garantizar la precisión\n",
    "    return math.ceil(float(terminos))\n",
    "\n",
    "def verificar_precision(n, error_deseado=1e-10):\n",
    "    \"\"\"\n",
    "    Verifica si el número de términos proporciona la precisión deseada\n",
    "    \"\"\"\n",
    "    suma = decimal.Decimal('0')\n",
    "    \n",
    "    # Calculamos los primeros n términos de la serie\n",
    "    for i in range(1, n+1):\n",
    "        termino = decimal.Decimal((-1)**(i+1)) / decimal.Decimal(2*i-1)\n",
    "        suma += termino\n",
    "    \n",
    "    # Multiplicamos por 4 para obtener π\n",
    "    aproximacion_pi = 4 * suma\n",
    "    error = abs(aproximacion_pi - decimal.Decimal(math.pi))\n",
    "    \n",
    "    return error < decimal.Decimal(str(error_deseado))\n",
    "\n",
    "def main():\n",
    "    # Calculamos el número de términos necesarios\n",
    "    n = calcular_terminos()\n",
    "    \n",
    "    print(f\"Para alcanzar una precisión de 1E-10:\")\n",
    "    print(f\"Número de términos necesarios: {n:,}\")\n",
    "    \n",
    "    # Verificamos si la precisión es correcta\n",
    "    if verificar_precision(n):\n",
    "        print(\"La precisión requerida se alcanza\")\n",
    "    else:\n",
    "        print(\"Se necesitan más términos\")\n",
    "\n",
    "if __name__ == \"__main__\":\n",
    "    main()"
   ]
  },
  {
   "cell_type": "code",
   "execution_count": null,
   "id": "40f267ad-24bd-431b-80b1-4a56dc91da8f",
   "metadata": {},
   "outputs": [],
   "source": []
  }
 ],
 "metadata": {
  "kernelspec": {
   "display_name": "Python 3 (ipykernel)",
   "language": "python",
   "name": "python3"
  },
  "language_info": {
   "codemirror_mode": {
    "name": "ipython",
    "version": 3
   },
   "file_extension": ".py",
   "mimetype": "text/x-python",
   "name": "python",
   "nbconvert_exporter": "python",
   "pygments_lexer": "ipython3",
   "version": "3.12.3"
  }
 },
 "nbformat": 4,
 "nbformat_minor": 5
}
